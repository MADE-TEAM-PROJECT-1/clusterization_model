{
 "cells": [
  {
   "cell_type": "code",
   "execution_count": 1,
   "id": "85e24022-7415-48c2-b1ea-e5adf3ce4b91",
   "metadata": {},
   "outputs": [
    {
     "name": "stdout",
     "output_type": "stream",
     "text": [
      "INFO: Pandarallel will run on 8 workers.\n",
      "INFO: Pandarallel will use standard multiprocessing data transfer (pipe) to transfer data between the main process and workers.\n",
      "\n",
      "WARNING: You are on Windows. If you detect any issue with pandarallel, be sure you checked out the Troubleshooting page:\n",
      "https://nalepae.github.io/pandarallel/troubleshooting/\n"
     ]
    }
   ],
   "source": [
    "import pandas as pd\n",
    "import numpy as np\n",
    "import matplotlib.pylab as plt\n",
    "from sklearn.cluster import KMeans\n",
    "from sklearn.feature_extraction.text import TfidfVectorizer\n",
    "from sklearn.decomposition import TruncatedSVD\n",
    "from sklearn.pipeline import Pipeline\n",
    "from sklearn.metrics import silhouette_score\n",
    "from collections import Counter\n",
    "from pandarallel import pandarallel\n",
    "\n",
    "pandarallel.initialize(progress_bar=True)"
   ]
  },
  {
   "cell_type": "markdown",
   "id": "725fc1d8-0179-4855-b37c-f1b8e67f8bcd",
   "metadata": {},
   "source": [
    "### We dont know true cluster labels. In this case we can use [Silhouette Coefficient](https://scikit-learn.org/stable/modules/generated/sklearn.metrics.silhouette_score.html) for calculating score of clusterization. The best value is 1 and the worst value is -1. Values near 0 indicate overlapping clusters."
   ]
  },
  {
   "cell_type": "code",
   "execution_count": 2,
   "id": "19e68360-59dc-404b-8fe7-c4949bb2d2a8",
   "metadata": {},
   "outputs": [],
   "source": [
    "COLUMNS_TO_DROP = ['year', 'n_citation', 'references', 'authors']\n",
    "NUM_PARTS = 3\n",
    "RANDOM_STATE = 42\n",
    "REDUCED_DIMENSION = 20\n",
    "NUM_CLUSTERS = 50\n",
    "\n",
    "def plot_clusters(cluster_ids, cluster_sizes, cluster_names):\n",
    "    plt.figure(figsize=(18, 7))\n",
    "    plt.bar(cluster_ids, cluster_sizes)\n",
    "    plt.xlabel('Cluster id')\n",
    "    plt.xticks(range(NUM_CLUSTERS))\n",
    "    plt.title('Cluster sizes')\n",
    "    ax = plt.gca()\n",
    "    for bar, word in zip(ax.patches, cluster_names):\n",
    "        ax.text(bar.get_x() + bar.get_width() / 4, bar.get_y() + bar.get_height()*1.05, word, rotation='vertical', color = 'black', va = 'bottom', fontsize=10) \n",
    "    plt.show()\n",
    "\n",
    "def get_score(X, cluster_labels, sample_size=10000):\n",
    "    return silhouette_score(X, pipe['kmeans'].labels_, sample_size=sample_size, random_state=RANDOM_STATE)\n",
    "\n",
    "def get_text_data(file_path):\n",
    "    data = pd.read_json(file_path, dtype={'title': 'string', 'abstract': 'string'}).drop(COLUMNS_TO_DROP, axis=1)\n",
    "    data['keywords'] = data['keywords'].apply(lambda row: ' '.join(row)).astype('string')\n",
    "    data['fos'] = data['fos'].apply(lambda row: ' '.join(row)).astype('string')\n",
    "    data['venue'] = data['venue'].apply(lambda row: row.get('name_d', '')).astype('string')\n",
    "    \n",
    "    data['text'] = data[['keywords', 'fos', 'abstract']].apply(lambda row: ' '.join(row.astype(str)), axis=1).astype('string')\n",
    "    data.drop(['title', 'abstract', 'venue'], axis=1, inplace=True)\n",
    "    return data"
   ]
  },
  {
   "cell_type": "markdown",
   "id": "d7078256-1648-4d13-a1e1-1cf37af65d9a",
   "metadata": {},
   "source": [
    "### Time consuming cell below: 3 parts are loaded, transformed and concatenated together."
   ]
  },
  {
   "cell_type": "code",
   "execution_count": 3,
   "id": "5d71ab03-5ec9-4d83-8e67-deeabd98e413",
   "metadata": {
    "tags": []
   },
   "outputs": [
    {
     "name": "stdout",
     "output_type": "stream",
     "text": [
      "<class 'pandas.core.frame.DataFrame'>\n",
      "Int64Index: 1084405 entries, 0 to 1084404\n",
      "Data columns (total 4 columns):\n",
      " #   Column    Non-Null Count    Dtype \n",
      "---  ------    --------------    ----- \n",
      " 0   _id       1084405 non-null  object\n",
      " 1   keywords  1084405 non-null  object\n",
      " 2   fos       1084405 non-null  object\n",
      " 3   text      1084405 non-null  object\n",
      "dtypes: object(4)\n",
      "memory usage: 41.4+ MB\n"
     ]
    }
   ],
   "source": [
    "# articles = pd.concat(get_text_data(f'data/part_{i+1}_clean.json') for i in range(NUM_PARTS))\n",
    "# articles.reset_index(drop=True, inplace=True)\n",
    "# articles.to_json('articles.json')\n",
    "articles = pd.read_json('articles.json')\n",
    "\n",
    "articles.info()"
   ]
  },
  {
   "cell_type": "code",
   "execution_count": 4,
   "id": "d13acea4-2cc0-48a5-93ed-4af837a3a535",
   "metadata": {},
   "outputs": [
    {
     "data": {
      "text/html": [
       "<div>\n",
       "<style scoped>\n",
       "    .dataframe tbody tr th:only-of-type {\n",
       "        vertical-align: middle;\n",
       "    }\n",
       "\n",
       "    .dataframe tbody tr th {\n",
       "        vertical-align: top;\n",
       "    }\n",
       "\n",
       "    .dataframe thead th {\n",
       "        text-align: right;\n",
       "    }\n",
       "</style>\n",
       "<table border=\"1\" class=\"dataframe\">\n",
       "  <thead>\n",
       "    <tr style=\"text-align: right;\">\n",
       "      <th></th>\n",
       "      <th>_id</th>\n",
       "      <th>keywords</th>\n",
       "      <th>fos</th>\n",
       "      <th>text</th>\n",
       "    </tr>\n",
       "  </thead>\n",
       "  <tbody>\n",
       "    <tr>\n",
       "      <th>0</th>\n",
       "      <td>53e99784b7602d9701f3e151</td>\n",
       "      <td>handwriting recognition prototypes image segme...</td>\n",
       "      <td>intelligent character recognition pattern reco...</td>\n",
       "      <td>handwriting recognition prototypes image segme...</td>\n",
       "    </tr>\n",
       "    <tr>\n",
       "      <th>1</th>\n",
       "      <td>53e99784b7602d9701f3e15d</td>\n",
       "      <td>sequential circuits statistical distributions ...</td>\n",
       "      <td>delay calculation timing failure monte carlo m...</td>\n",
       "      <td>sequential circuits statistical distributions ...</td>\n",
       "    </tr>\n",
       "    <tr>\n",
       "      <th>2</th>\n",
       "      <td>53e99784b7602d9701f3f411</td>\n",
       "      <td>internet hypermedia markup languages informati...</td>\n",
       "      <td>xml base world wide web xml framework xml encr...</td>\n",
       "      <td>internet hypermedia markup languages informati...</td>\n",
       "    </tr>\n",
       "    <tr>\n",
       "      <th>3</th>\n",
       "      <td>53e99792b7602d9701f5af1a</td>\n",
       "      <td>cognition multi-agent systems ubiquitous compu...</td>\n",
       "      <td>syma computer science symbiotic computing mult...</td>\n",
       "      <td>cognition multi-agent systems ubiquitous compu...</td>\n",
       "    </tr>\n",
       "    <tr>\n",
       "      <th>4</th>\n",
       "      <td>53e99792b7602d9701f5b0a5</td>\n",
       "      <td>balanced scorecard</td>\n",
       "      <td>lease computer science balanced scorecard busi...</td>\n",
       "      <td>balanced scorecard lease computer science bala...</td>\n",
       "    </tr>\n",
       "    <tr>\n",
       "      <th>...</th>\n",
       "      <td>...</td>\n",
       "      <td>...</td>\n",
       "      <td>...</td>\n",
       "      <td>...</td>\n",
       "    </tr>\n",
       "    <tr>\n",
       "      <th>1084400</th>\n",
       "      <td>6052d1c79e795e222b127d58</td>\n",
       "      <td>sketch information retrieval solid modeling ta...</td>\n",
       "      <td>training set 3d model task analysis informatio...</td>\n",
       "      <td>sketch information retrieval solid modeling ta...</td>\n",
       "    </tr>\n",
       "    <tr>\n",
       "      <th>1084401</th>\n",
       "      <td>6052fa249e795e222b13be15</td>\n",
       "      <td>hash function random oracle discrete mathemati...</td>\n",
       "      <td>discrete mathematics time space computer scien...</td>\n",
       "      <td>hash function random oracle discrete mathemati...</td>\n",
       "    </tr>\n",
       "    <tr>\n",
       "      <th>1084402</th>\n",
       "      <td>6054328e9e795e40330e1fa2</td>\n",
       "      <td>stereopsis computer vision daytime artificial ...</td>\n",
       "      <td>network on computer vision computer science st...</td>\n",
       "      <td>stereopsis computer vision daytime artificial ...</td>\n",
       "    </tr>\n",
       "    <tr>\n",
       "      <th>1084403</th>\n",
       "      <td>605828249e795e357b471758</td>\n",
       "      <td>search engine data as a service autonomous sys...</td>\n",
       "      <td>search engine situation awareness computer sci...</td>\n",
       "      <td>search engine data as a service autonomous sys...</td>\n",
       "    </tr>\n",
       "    <tr>\n",
       "      <th>1084404</th>\n",
       "      <td>605829309e795e357b47179d</td>\n",
       "      <td>search engine indexing controlled vocabulary o...</td>\n",
       "      <td>content type ontology (information science) te...</td>\n",
       "      <td>search engine indexing controlled vocabulary o...</td>\n",
       "    </tr>\n",
       "  </tbody>\n",
       "</table>\n",
       "<p>1084405 rows × 4 columns</p>\n",
       "</div>"
      ],
      "text/plain": [
       "                              _id  \\\n",
       "0        53e99784b7602d9701f3e151   \n",
       "1        53e99784b7602d9701f3e15d   \n",
       "2        53e99784b7602d9701f3f411   \n",
       "3        53e99792b7602d9701f5af1a   \n",
       "4        53e99792b7602d9701f5b0a5   \n",
       "...                           ...   \n",
       "1084400  6052d1c79e795e222b127d58   \n",
       "1084401  6052fa249e795e222b13be15   \n",
       "1084402  6054328e9e795e40330e1fa2   \n",
       "1084403  605828249e795e357b471758   \n",
       "1084404  605829309e795e357b47179d   \n",
       "\n",
       "                                                  keywords  \\\n",
       "0        handwriting recognition prototypes image segme...   \n",
       "1        sequential circuits statistical distributions ...   \n",
       "2        internet hypermedia markup languages informati...   \n",
       "3        cognition multi-agent systems ubiquitous compu...   \n",
       "4                                       balanced scorecard   \n",
       "...                                                    ...   \n",
       "1084400  sketch information retrieval solid modeling ta...   \n",
       "1084401  hash function random oracle discrete mathemati...   \n",
       "1084402  stereopsis computer vision daytime artificial ...   \n",
       "1084403  search engine data as a service autonomous sys...   \n",
       "1084404  search engine indexing controlled vocabulary o...   \n",
       "\n",
       "                                                       fos  \\\n",
       "0        intelligent character recognition pattern reco...   \n",
       "1        delay calculation timing failure monte carlo m...   \n",
       "2        xml base world wide web xml framework xml encr...   \n",
       "3        syma computer science symbiotic computing mult...   \n",
       "4        lease computer science balanced scorecard busi...   \n",
       "...                                                    ...   \n",
       "1084400  training set 3d model task analysis informatio...   \n",
       "1084401  discrete mathematics time space computer scien...   \n",
       "1084402  network on computer vision computer science st...   \n",
       "1084403  search engine situation awareness computer sci...   \n",
       "1084404  content type ontology (information science) te...   \n",
       "\n",
       "                                                      text  \n",
       "0        handwriting recognition prototypes image segme...  \n",
       "1        sequential circuits statistical distributions ...  \n",
       "2        internet hypermedia markup languages informati...  \n",
       "3        cognition multi-agent systems ubiquitous compu...  \n",
       "4        balanced scorecard lease computer science bala...  \n",
       "...                                                    ...  \n",
       "1084400  sketch information retrieval solid modeling ta...  \n",
       "1084401  hash function random oracle discrete mathemati...  \n",
       "1084402  stereopsis computer vision daytime artificial ...  \n",
       "1084403  search engine data as a service autonomous sys...  \n",
       "1084404  search engine indexing controlled vocabulary o...  \n",
       "\n",
       "[1084405 rows x 4 columns]"
      ]
     },
     "execution_count": 4,
     "metadata": {},
     "output_type": "execute_result"
    }
   ],
   "source": [
    "articles"
   ]
  },
  {
   "cell_type": "markdown",
   "id": "49dbfdfd-1b29-45ad-b3c4-36797f08cd98",
   "metadata": {},
   "source": [
    "### Applying [Porter stemming](https://www.nltk.org/api/nltk.stem.porter.html) to normalize text data"
   ]
  },
  {
   "cell_type": "code",
   "execution_count": 5,
   "id": "46965318-28f7-4c21-8e3b-75d0eddfa736",
   "metadata": {},
   "outputs": [
    {
     "data": {
      "application/vnd.jupyter.widget-view+json": {
       "model_id": "3259f8c628c244a78fbc85d007df986e",
       "version_major": 2,
       "version_minor": 0
      },
      "text/plain": [
       "VBox(children=(HBox(children=(IntProgress(value=0, description='0.00%', max=542204), Label(value='0 / 542204')…"
      ]
     },
     "metadata": {},
     "output_type": "display_data"
    },
    {
     "name": "stdout",
     "output_type": "stream",
     "text": [
      "CPU times: total: 30.8 s\n",
      "Wall time: 7min 38s\n"
     ]
    }
   ],
   "source": [
    "%%time\n",
    "\n",
    "def normalize(sentence):\n",
    "    from nltk.stem.porter import PorterStemmer\n",
    "    porter = PorterStemmer()\n",
    "    return ' '.join(porter.stem(word) for word in sentence.split())\n",
    "\n",
    "articles = articles.parallel_applymap(normalize)"
   ]
  },
  {
   "cell_type": "code",
   "execution_count": 6,
   "id": "24b63a51-4f9c-49d8-bed9-cee8b65a1147",
   "metadata": {},
   "outputs": [
    {
     "data": {
      "text/html": [
       "<div>\n",
       "<style scoped>\n",
       "    .dataframe tbody tr th:only-of-type {\n",
       "        vertical-align: middle;\n",
       "    }\n",
       "\n",
       "    .dataframe tbody tr th {\n",
       "        vertical-align: top;\n",
       "    }\n",
       "\n",
       "    .dataframe thead th {\n",
       "        text-align: right;\n",
       "    }\n",
       "</style>\n",
       "<table border=\"1\" class=\"dataframe\">\n",
       "  <thead>\n",
       "    <tr style=\"text-align: right;\">\n",
       "      <th></th>\n",
       "      <th>_id</th>\n",
       "      <th>keywords</th>\n",
       "      <th>fos</th>\n",
       "      <th>text</th>\n",
       "    </tr>\n",
       "  </thead>\n",
       "  <tbody>\n",
       "    <tr>\n",
       "      <th>0</th>\n",
       "      <td>53e99784b7602d9701f3e151</td>\n",
       "      <td>handwrit recognit prototyp imag segment comput...</td>\n",
       "      <td>intellig charact recognit pattern recognit com...</td>\n",
       "      <td>handwrit recognit prototyp imag segment comput...</td>\n",
       "    </tr>\n",
       "    <tr>\n",
       "      <th>1</th>\n",
       "      <td>53e99784b7602d9701f3e15d</td>\n",
       "      <td>sequenti circuit statist distribut set-up time...</td>\n",
       "      <td>delay calcul time failur mont carlo method seq...</td>\n",
       "      <td>sequenti circuit statist distribut set-up time...</td>\n",
       "    </tr>\n",
       "    <tr>\n",
       "      <th>2</th>\n",
       "      <td>53e99784b7602d9701f3f411</td>\n",
       "      <td>internet hypermedia markup languag inform reso...</td>\n",
       "      <td>xml base world wide web xml framework xml encr...</td>\n",
       "      <td>internet hypermedia markup languag inform reso...</td>\n",
       "    </tr>\n",
       "    <tr>\n",
       "      <th>3</th>\n",
       "      <td>53e99792b7602d9701f5af1a</td>\n",
       "      <td>cognit multi-ag system ubiquit comput adips-da...</td>\n",
       "      <td>syma comput scienc symbiot comput multi-ag sys...</td>\n",
       "      <td>cognit multi-ag system ubiquit comput adips-da...</td>\n",
       "    </tr>\n",
       "    <tr>\n",
       "      <th>4</th>\n",
       "      <td>53e99792b7602d9701f5b0a5</td>\n",
       "      <td>balanc scorecard</td>\n",
       "      <td>leas comput scienc balanc scorecard busi admin...</td>\n",
       "      <td>balanc scorecard leas comput scienc balanc sco...</td>\n",
       "    </tr>\n",
       "    <tr>\n",
       "      <th>...</th>\n",
       "      <td>...</td>\n",
       "      <td>...</td>\n",
       "      <td>...</td>\n",
       "      <td>...</td>\n",
       "    </tr>\n",
       "    <tr>\n",
       "      <th>1084400</th>\n",
       "      <td>6052d1c79e795e222b127d58</td>\n",
       "      <td>sketch inform retriev solid model task analysi...</td>\n",
       "      <td>train set 3d model task analysi inform retriev...</td>\n",
       "      <td>sketch inform retriev solid model task analysi...</td>\n",
       "    </tr>\n",
       "    <tr>\n",
       "      <th>1084401</th>\n",
       "      <td>6052fa249e795e222b13be15</td>\n",
       "      <td>hash function random oracl discret mathemat co...</td>\n",
       "      <td>discret mathemat time space comput scienc rand...</td>\n",
       "      <td>hash function random oracl discret mathemat co...</td>\n",
       "    </tr>\n",
       "    <tr>\n",
       "      <th>1084402</th>\n",
       "      <td>6054328e9e795e40330e1fa2</td>\n",
       "      <td>stereopsi comput vision daytim artifici intell...</td>\n",
       "      <td>network on comput vision comput scienc stereop...</td>\n",
       "      <td>stereopsi comput vision daytim artifici intell...</td>\n",
       "    </tr>\n",
       "    <tr>\n",
       "      <th>1084403</th>\n",
       "      <td>605828249e795e357b471758</td>\n",
       "      <td>search engin data as a servic autonom system (...</td>\n",
       "      <td>search engin situat awar comput scienc interne...</td>\n",
       "      <td>search engin data as a servic autonom system (...</td>\n",
       "    </tr>\n",
       "    <tr>\n",
       "      <th>1084404</th>\n",
       "      <td>605829309e795e357b47179d</td>\n",
       "      <td>search engin index control vocabulari ontolog ...</td>\n",
       "      <td>content type ontolog (inform science) text min...</td>\n",
       "      <td>search engin index control vocabulari ontolog ...</td>\n",
       "    </tr>\n",
       "  </tbody>\n",
       "</table>\n",
       "<p>1084405 rows × 4 columns</p>\n",
       "</div>"
      ],
      "text/plain": [
       "                              _id  \\\n",
       "0        53e99784b7602d9701f3e151   \n",
       "1        53e99784b7602d9701f3e15d   \n",
       "2        53e99784b7602d9701f3f411   \n",
       "3        53e99792b7602d9701f5af1a   \n",
       "4        53e99792b7602d9701f5b0a5   \n",
       "...                           ...   \n",
       "1084400  6052d1c79e795e222b127d58   \n",
       "1084401  6052fa249e795e222b13be15   \n",
       "1084402  6054328e9e795e40330e1fa2   \n",
       "1084403  605828249e795e357b471758   \n",
       "1084404  605829309e795e357b47179d   \n",
       "\n",
       "                                                  keywords  \\\n",
       "0        handwrit recognit prototyp imag segment comput...   \n",
       "1        sequenti circuit statist distribut set-up time...   \n",
       "2        internet hypermedia markup languag inform reso...   \n",
       "3        cognit multi-ag system ubiquit comput adips-da...   \n",
       "4                                         balanc scorecard   \n",
       "...                                                    ...   \n",
       "1084400  sketch inform retriev solid model task analysi...   \n",
       "1084401  hash function random oracl discret mathemat co...   \n",
       "1084402  stereopsi comput vision daytim artifici intell...   \n",
       "1084403  search engin data as a servic autonom system (...   \n",
       "1084404  search engin index control vocabulari ontolog ...   \n",
       "\n",
       "                                                       fos  \\\n",
       "0        intellig charact recognit pattern recognit com...   \n",
       "1        delay calcul time failur mont carlo method seq...   \n",
       "2        xml base world wide web xml framework xml encr...   \n",
       "3        syma comput scienc symbiot comput multi-ag sys...   \n",
       "4        leas comput scienc balanc scorecard busi admin...   \n",
       "...                                                    ...   \n",
       "1084400  train set 3d model task analysi inform retriev...   \n",
       "1084401  discret mathemat time space comput scienc rand...   \n",
       "1084402  network on comput vision comput scienc stereop...   \n",
       "1084403  search engin situat awar comput scienc interne...   \n",
       "1084404  content type ontolog (inform science) text min...   \n",
       "\n",
       "                                                      text  \n",
       "0        handwrit recognit prototyp imag segment comput...  \n",
       "1        sequenti circuit statist distribut set-up time...  \n",
       "2        internet hypermedia markup languag inform reso...  \n",
       "3        cognit multi-ag system ubiquit comput adips-da...  \n",
       "4        balanc scorecard leas comput scienc balanc sco...  \n",
       "...                                                    ...  \n",
       "1084400  sketch inform retriev solid model task analysi...  \n",
       "1084401  hash function random oracl discret mathemat co...  \n",
       "1084402  stereopsi comput vision daytim artifici intell...  \n",
       "1084403  search engin data as a servic autonom system (...  \n",
       "1084404  search engin index control vocabulari ontolog ...  \n",
       "\n",
       "[1084405 rows x 4 columns]"
      ]
     },
     "execution_count": 6,
     "metadata": {},
     "output_type": "execute_result"
    }
   ],
   "source": [
    "articles"
   ]
  },
  {
   "cell_type": "code",
   "execution_count": 7,
   "id": "e7ebb624-a110-4bbe-b15f-56074375c088",
   "metadata": {},
   "outputs": [],
   "source": [
    "vectorizer = TfidfVectorizer(max_df=0.5, min_df=10, ngram_range=(1, 2), stop_words='english')\n",
    "svd = TruncatedSVD(n_components=REDUCED_DIMENSION, random_state=RANDOM_STATE)\n",
    "kmeans = KMeans(n_clusters=NUM_CLUSTERS, random_state=RANDOM_STATE)\n",
    "\n",
    "pipe = Pipeline([\n",
    "    ('tfidf', vectorizer),\n",
    "    ('svd', svd),\n",
    "    ('kmeans', kmeans)\n",
    "])"
   ]
  },
  {
   "cell_type": "code",
   "execution_count": 8,
   "id": "9c0afa0b-a4eb-4863-8aeb-c43d556af15b",
   "metadata": {
    "tags": []
   },
   "outputs": [
    {
     "name": "stdout",
     "output_type": "stream",
     "text": [
      "(1084405, 20)\n",
      "CPU times: total: 16min 27s\n",
      "Wall time: 10min 9s\n"
     ]
    }
   ],
   "source": [
    "%%time\n",
    "pipe.fit(articles.text)\n",
    "\n",
    "cluster_ids, cluster_sizes = np.unique(kmeans.labels_, return_counts=True)\n",
    "\n",
    "articles_compressed = pipe[:-1].transform(articles.text)\n",
    "print(articles_compressed.shape)"
   ]
  },
  {
   "cell_type": "code",
   "execution_count": 9,
   "id": "0717c47a-9eb9-47f3-9bad-e75953c30c22",
   "metadata": {},
   "outputs": [],
   "source": [
    "# REDUCED_DIM | NUM_CLUSTERS | score\n",
    "# 100 50 0.07560141403296246\n",
    "# 90 50 0.07350460217999018\n",
    "# 80 50 0.09014818799267464\n",
    "# 70 50 0.09797929513810197\n",
    "# 60 50 0.10543775302947447\n",
    "# 50 50 0.11257597090188336\n",
    "# 50 40 0.10522467219103467\n",
    "\n",
    "#ngram=(1, 2)\n",
    "# 50 50 0.1216299497556675\n",
    "# 40 50 0.1295353872010128\n",
    "# 30 50 0.1385145399766233\n",
    "# 20 50 0.1458188512767084"
   ]
  },
  {
   "cell_type": "code",
   "execution_count": 10,
   "id": "ac93187c-22d6-4a8e-a4b0-f4ab1ef9c466",
   "metadata": {},
   "outputs": [
    {
     "name": "stdout",
     "output_type": "stream",
     "text": [
      "Score: 0.1458188512767084\n"
     ]
    }
   ],
   "source": [
    "print('Score:', get_score(articles_compressed, kmeans.labels_))"
   ]
  },
  {
   "cell_type": "markdown",
   "id": "3528b364-a643-4447-bdea-9f2b5d3aad03",
   "metadata": {},
   "source": [
    "### Cluster names based on tfidf score of cluster centers"
   ]
  },
  {
   "cell_type": "code",
   "execution_count": 11,
   "id": "38e9c2bd-f59e-4857-9ca9-f55f8dc34b97",
   "metadata": {},
   "outputs": [
    {
     "name": "stdout",
     "output_type": "stream",
     "text": [
      "Cluster 0: fuzzi fuzzi set logic set fuzzi logic cluster mathemat data algorithm fuzzi control\n",
      "Cluster 1: data cluster inform databas algorithm queri secur analysi retriev parallel\n",
      "Cluster 2: algorithm model mathemat graph optim problem program data method design\n",
      "Cluster 3: learn recognit data model machin featur algorithm artifici intellig speech\n",
      "Cluster 4: rout network protocol rout protocol ad hoc hoc ad hoc network wireless mobil\n",
      "Cluster 5: web servic web servic semant world wide wide web world wide semant web page\n",
      "Cluster 6: robot mobil mobil robot control motion kinemat plan robot control engin human\n",
      "Cluster 7: graph mathemat discret mathemat discret combinator vertex network mathemat combinator graph theori tree\n",
      "Cluster 8: imag segment vision comput vision featur algorithm method artifici object detect\n",
      "Cluster 9: softwar engin softwar engin softwar develop develop architectur process code engin softwar test\n",
      "Cluster 10: schedul algorithm resourc optim servic network distribut parallel manag time\n",
      "Cluster 11: sensor wireless network sensor network wireless sensor energi node network wireless distribut key distribut\n",
      "Cluster 12: network wireless mobil servic neural neural network protocol comput network sensor ad hoc\n",
      "Cluster 13: languag program program languag model logic semant natur languag natur formal code\n",
      "Cluster 14: imag segment vision comput vision featur artifici imag segment recognit artifici intellig intellig\n",
      "Cluster 15: sensor network wireless sensor network wireless sensor energi data distribut node network wireless\n",
      "Cluster 16: control control theori theori engin model nonlinear optim control engin mathemat linear\n",
      "Cluster 17: network neural neural network artifici learn artifici neural intellig artifici intellig machin machin learn\n",
      "Cluster 18: fuzzi fuzzi set logic set fuzzi logic cluster fuzzi control mathemat fuzzi number neuro fuzzi\n",
      "Cluster 19: network wireless mobil servic schedul neural secur data protocol neural network\n",
      "Cluster 20: code channel error signal commun decod nois fade interfer mimo\n",
      "Cluster 21: circuit design power engin electron integr logic test cmo fault\n",
      "Cluster 22: code channel signal error algorithm filter nois commun estim power\n",
      "Cluster 23: recognit imag featur speech artifici intellig artifici intellig learn pattern machin\n",
      "Cluster 24: control control theori theori robot engin nonlinear control engin stabil fuzzi model\n",
      "Cluster 25: algorithm optim mathemat problem learn schedul program genet model method\n",
      "Cluster 26: web servic semant inform web servic world wide wide web world user wide\n",
      "Cluster 27: manag busi knowledg process inform knowledg manag busi process model servic technolog\n",
      "Cluster 28: schedul algorithm optim resourc servic parallel distribut alloc problem time\n",
      "Cluster 29: recognit speech languag featur speech recognit intellig artifici intellig artifici machin model\n",
      "Cluster 30: secur servic data mobil model network cloud comput secur protocol authent\n",
      "Cluster 31: secur servic data model cloud comput secur mobil network manag control\n",
      "Cluster 32: manag knowledg busi inform process knowledg manag busi process model technolog engin\n",
      "Cluster 33: data algorithm schedul design parallel model circuit program memori power\n",
      "Cluster 34: user interact interfac mobil design learn human user interfac inform social\n",
      "Cluster 35: manag knowledg inform busi process model knowledg manag data learn design\n",
      "Cluster 36: network rout protocol ad hoc hoc ad mobil rout protocol hoc network wireless\n",
      "Cluster 37: languag program model logic program languag semant process softwar natur languag natur\n",
      "Cluster 38: robot mobil mobil robot control motion kinemat engin intellig human artifici\n",
      "Cluster 39: languag program speech natur languag model recognit natur semant process languag process\n",
      "Cluster 40: network neural neural network learn artifici artifici neural intellig artifici intellig machin algorithm\n",
      "Cluster 41: learn machin algorithm artifici recognit model intellig artifici intellig machin learn neural\n",
      "Cluster 42: graph mathemat algorithm discret discret mathemat combinator problem optim network theori\n",
      "Cluster 43: softwar engin softwar engin develop softwar develop architectur process program design model\n",
      "Cluster 44: network code channel wireless commun error signal mobil schedul interfer\n",
      "Cluster 45: data inform web queri retriev languag semant databas inform retriev knowledg\n",
      "Cluster 46: user interact interfac mobil design human user interfac learn human comput comput interact\n",
      "Cluster 47: rout protocol rout protocol ad hoc hoc network ad hoc network wireless mobil\n",
      "Cluster 48: fuzzi fuzzi set logic control set fuzzi logic cluster mathemat fuzzi control theori\n",
      "Cluster 49: web servic secur web servic mobil cloud manag busi model architectur\n"
     ]
    }
   ],
   "source": [
    "original_space_centroids = svd.inverse_transform(kmeans.cluster_centers_)\n",
    "order_centroids = original_space_centroids.argsort()[:, ::-1]\n",
    "terms = vectorizer.get_feature_names_out()\n",
    "cluster_names = terms[order_centroids[:, 0]]\n",
    "\n",
    "topK = 10\n",
    "for i in range(NUM_CLUSTERS):\n",
    "    print(f'Cluster {i}: ', end='')\n",
    "    print(' '.join(terms[order_centroids[i, :topK]]))"
   ]
  },
  {
   "cell_type": "code",
   "execution_count": 12,
   "id": "23f08af9-f09a-416b-8d50-0e3057a61c71",
   "metadata": {},
   "outputs": [
    {
     "data": {
      "image/png": "[encoded data removed]",
      "text/plain": [
       "<Figure size 1296x504 with 1 Axes>"
      ]
     },
     "metadata": {
      "needs_background": "light"
     },
     "output_type": "display_data"
    }
   ],
   "source": [
    "plot_clusters(cluster_ids, cluster_sizes, cluster_names)"
   ]
  },
  {
   "cell_type": "markdown",
   "id": "e80b22e4-cf2d-4c77-a16e-79ac84ca9775",
   "metadata": {},
   "source": [
    "### Cluster names based on top words from `keyrowds` + `fos`"
   ]
  },
  {
   "cell_type": "code",
   "execution_count": 13,
   "id": "42c45316-d3e3-4bbc-9fc0-2dd900484a16",
   "metadata": {},
   "outputs": [
    {
     "name": "stdout",
     "output_type": "stream",
     "text": [
      "Cluster 0: fuzzi logic comput system set scienc mathemat data intellig algorithm\n",
      "Cluster 1: data comput cluster scienc mine algorithm databas analysi system model\n",
      "Cluster 2: comput scienc mathemat system model algorithm analysi function method theori\n",
      "Cluster 3: comput model scienc intellig artifici recognit data learn analysi machin\n",
      "Cluster 4: rout network comput protocol multicast scienc distribut algorithm wireless ad\n",
      "Cluster 5: web servic semant comput scienc world wide page data model\n",
      "Cluster 6: robot mobil control comput system engin intellig kinemat artifici motion\n",
      "Cluster 7: graph mathemat combinator discret comput scienc algorithm theori data vertex\n",
      "Cluster 8: imag comput vision intellig artifici scienc process algorithm model motion\n",
      "Cluster 9: softwar engin develop process system comput scienc architectur manag qualiti\n",
      "Cluster 10: schedul comput system resourc scienc algorithm (computing) distribut network alloc\n",
      "Cluster 11: network sensor wireless comput distribut scienc key mobil energi in\n",
      "Cluster 12: network comput wireless mobil scienc servic commun manag protocol distribut\n",
      "Cluster 13: program languag comput scienc logic model specif system semant formal\n",
      "Cluster 14: imag comput segment artifici intellig vision featur process scienc recognit\n",
      "Cluster 15: network sensor wireless comput scienc data distribut energi system algorithm\n",
      "Cluster 16: control system theori comput engin mathemat model scienc optim linear\n",
      "Cluster 17: network neural artifici comput intellig learn scienc system algorithm model\n",
      "Cluster 18: fuzzi set system mathemat logic oper classif number theori defuzzif\n",
      "Cluster 19: network comput scienc system distribut commun protocol mobil servic data\n",
      "Cluster 20: code channel comput error scienc decod commun algorithm fade system\n",
      "Cluster 21: circuit engin design electron comput power integr system logic cmo\n",
      "Cluster 22: comput filter signal algorithm scienc nois channel system code process\n",
      "Cluster 23: recognit featur comput imag intellig artifici pattern extract scienc vector\n",
      "Cluster 24: control system theori engin nonlinear robust adapt robot model fuzzi\n",
      "Cluster 25: algorithm optim mathemat comput problem scienc search genet method program\n",
      "Cluster 26: web comput scienc inform world wide semant data search system\n",
      "Cluster 27: busi process manag knowledg model system inform comput scienc engin\n",
      "Cluster 28: schedul comput algorithm scienc dynam system prioriti distribut fair-shar shop\n",
      "Cluster 29: speech recognit comput model scienc process intellig artifici languag markov\n",
      "Cluster 30: comput secur scienc system authent network mobil protocol data key\n",
      "Cluster 31: secur comput inform manag cloud scienc network system data model\n",
      "Cluster 32: manag knowledg inform system busi comput process scienc technolog model\n",
      "Cluster 33: comput system scienc memori parallel data distribut algorithm architectur model\n",
      "Cluster 34: comput scienc interact system design user mobil social virtual inform\n",
      "Cluster 35: system manag comput inform scienc knowledg model engin technolog process\n",
      "Cluster 36: network ad hoc comput wireless mobil protocol rout distribut scienc\n",
      "Cluster 37: program comput languag scienc model logic system formal softwar semant\n",
      "Cluster 38: robot comput control mobil system engin intellig artifici scienc motion\n",
      "Cluster 39: languag natur comput process scienc intellig artifici semant model translat\n",
      "Cluster 40: network neural artifici comput scienc intellig learn system model algorithm\n",
      "Cluster 41: learn machin comput intellig artifici scienc vector data support algorithm\n",
      "Cluster 42: graph mathemat comput algorithm scienc discret theori combinator problem network\n",
      "Cluster 43: softwar system comput engin scienc architectur model develop test design\n",
      "Cluster 44: network comput channel commun wireless radio scienc interfer access alloc\n",
      "Cluster 45: inform retriev queri comput data scienc search databas system xml\n",
      "Cluster 46: user interfac interact comput design scienc mobil human–comput system virtual\n",
      "Cluster 47: rout protocol network comput ad hoc wireless mobil scienc distribut\n",
      "Cluster 48: fuzzi system control set logic theori comput mathemat intellig artifici\n",
      "Cluster 49: servic comput web scienc architectur system manag mobil softwar model\n"
     ]
    }
   ],
   "source": [
    "cluster_names_counter = []\n",
    "\n",
    "for cluster_id in range(NUM_CLUSTERS):\n",
    "    cluster = articles.loc[np.argwhere(kmeans.labels_ == cluster_id).flatten()]\n",
    "    c = Counter(' '.join((cluster.keywords + ' ' + cluster.fos).values).split())\n",
    "    print(f'Cluster {cluster_id}: ', end='')\n",
    "    top_words = c.most_common(topK)\n",
    "    print(' '.join(pair[0] for pair in top_words))\n",
    "    cluster_names_counter.append(top_words[0][0])"
   ]
  },
  {
   "cell_type": "code",
   "execution_count": 14,
   "id": "d5676172-2a00-489c-90fe-89810972cea2",
   "metadata": {},
   "outputs": [
    {
     "data": {
      "image/png": "[encoded data removed]",
      "text/plain": [
       "<Figure size 1296x504 with 1 Axes>"
      ]
     },
     "metadata": {
      "needs_background": "light"
     },
     "output_type": "display_data"
    }
   ],
   "source": [
    "plot_clusters(cluster_ids, cluster_sizes, cluster_names_counter)"
   ]
  },
  {
   "cell_type": "markdown",
   "id": "e7974b56-2ab1-4ebc-a552-93d8e7a13a8f",
   "metadata": {},
   "source": [
    "### Saving labels"
   ]
  },
  {
   "cell_type": "code",
   "execution_count": 15,
   "id": "364ff3aa-852c-4cf8-a5c1-4533b2cd6f58",
   "metadata": {},
   "outputs": [],
   "source": [
    "articles['label'] = kmeans.labels_\n",
    "articles[['_id', 'label']].to_csv('labels.csv', index=False)"
   ]
  }
 ],
 "metadata": {
  "kernelspec": {
   "display_name": "Python 3 (ipykernel)",
   "language": "python",
   "name": "python3"
  },
  "language_info": {
   "codemirror_mode": {
    "name": "ipython",
    "version": 3
   },
   "file_extension": ".py",
   "mimetype": "text/x-python",
   "name": "python",
   "nbconvert_exporter": "python",
   "pygments_lexer": "ipython3",
   "version": "3.9.10"
  }
 },
 "nbformat": 4,
 "nbformat_minor": 5
}
