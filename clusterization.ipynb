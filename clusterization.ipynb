{
 "cells": [
  {
   "cell_type": "code",
   "execution_count": 1,
   "id": "85e24022-7415-48c2-b1ea-e5adf3ce4b91",
   "metadata": {},
   "outputs": [
    {
     "name": "stdout",
     "output_type": "stream",
     "text": [
      "INFO: Pandarallel will run on 8 workers.\n",
      "INFO: Pandarallel will use standard multiprocessing data transfer (pipe) to transfer data between the main process and workers.\n",
      "\n",
      "WARNING: You are on Windows. If you detect any issue with pandarallel, be sure you checked out the Troubleshooting page:\n",
      "https://nalepae.github.io/pandarallel/troubleshooting/\n"
     ]
    }
   ],
   "source": [
    "import pandas as pd\n",
    "import numpy as np\n",
    "import matplotlib.pylab as plt\n",
    "from sklearn.cluster import KMeans\n",
    "from sklearn.feature_extraction.text import TfidfVectorizer\n",
    "from sklearn.decomposition import TruncatedSVD\n",
    "from sklearn.pipeline import Pipeline\n",
    "from sklearn.metrics import silhouette_score\n",
    "from nltk.stem.porter import PorterStemmer\n",
    "from collections import Counter\n",
    "from pandarallel import pandarallel\n",
    "\n",
    "pandarallel.initialize(progress_bar=True)"
   ]
  },
  {
   "cell_type": "markdown",
   "id": "725fc1d8-0179-4855-b37c-f1b8e67f8bcd",
   "metadata": {},
   "source": [
    "### We dont know true cluster labels. In this case we can use [Silhouette Coefficient](https://scikit-learn.org/stable/modules/generated/sklearn.metrics.silhouette_score.html) for calculating score of clusterization. The best value is 1 and the worst value is -1. Values near 0 indicate overlapping clusters."
   ]
  },
  {
   "cell_type": "code",
   "execution_count": 2,
   "id": "19e68360-59dc-404b-8fe7-c4949bb2d2a8",
   "metadata": {},
   "outputs": [],
   "source": [
    "COLUMNS_TO_DROP = ['year', 'n_citation', 'references', 'authors']\n",
    "NUM_PARTS = 3\n",
    "RANDOM_STATE = 42\n",
    "REDUCED_DIMENSION = 100\n",
    "NUM_CLUSTERS = 50\n",
    "\n",
    "def plot_clusters(cluster_ids, cluster_sizes, cluster_names):\n",
    "    plt.figure(figsize=(18, 7))\n",
    "    plt.bar(cluster_ids, cluster_sizes)\n",
    "    plt.xlabel('Cluster id')\n",
    "    plt.xticks(range(NUM_CLUSTERS))\n",
    "    plt.title('Cluster sizes')\n",
    "    ax = plt.gca()\n",
    "    for bar, word in zip(ax.patches, cluster_names):\n",
    "        ax.text(bar.get_x() + bar.get_width() / 4, bar.get_y() + bar.get_height()*1.05, word, rotation='vertical', color = 'black', va = 'bottom', fontsize=10) \n",
    "    plt.show()\n",
    "\n",
    "def get_score(X, cluster_labels, sample_size=10000):\n",
    "    return silhouette_score(X, pipe['kmeans'].labels_, sample_size=sample_size, random_state=RANDOM_STATE)\n",
    "\n",
    "def get_text_data(file_path):\n",
    "    data = pd.read_json(file_path, dtype={'title': 'string', 'abstract': 'string'}).drop(COLUMNS_TO_DROP, axis=1)\n",
    "    data['keywords'] = data['keywords'].apply(lambda row: ' '.join(row)).astype('string')\n",
    "    data['fos'] = data['fos'].apply(lambda row: ' '.join(row)).astype('string')\n",
    "    data['venue'] = data['venue'].apply(lambda row: row.get('name_d', '')).astype('string')\n",
    "    \n",
    "    data['text'] = data[['keywords', 'fos', 'abstract']].apply(lambda row: ' '.join(row.astype(str)), axis=1).astype('string')\n",
    "    data.drop(['title', 'abstract', 'venue'], axis=1, inplace=True)\n",
    "    return data"
   ]
  },
  {
   "cell_type": "markdown",
   "id": "d7078256-1648-4d13-a1e1-1cf37af65d9a",
   "metadata": {},
   "source": [
    "### Time consuming cell below: 3 parts are loaded, transformed and concatenated together."
   ]
  },
  {
   "cell_type": "code",
   "execution_count": 3,
   "id": "5d71ab03-5ec9-4d83-8e67-deeabd98e413",
   "metadata": {
    "tags": []
   },
   "outputs": [
    {
     "name": "stdout",
     "output_type": "stream",
     "text": [
      "<class 'pandas.core.frame.DataFrame'>\n",
      "RangeIndex: 1084405 entries, 0 to 1084404\n",
      "Data columns (total 4 columns):\n",
      " #   Column    Non-Null Count    Dtype \n",
      "---  ------    --------------    ----- \n",
      " 0   _id       1084405 non-null  object\n",
      " 1   keywords  1084405 non-null  string\n",
      " 2   fos       1084405 non-null  string\n",
      " 3   text      1084405 non-null  string\n",
      "dtypes: object(1), string(3)\n",
      "memory usage: 33.1+ MB\n"
     ]
    }
   ],
   "source": [
    "articles = pd.concat(get_text_data(f'data/part_{i+1}_clean.json') for i in range(NUM_PARTS))\n",
    "articles.reset_index(drop=True, inplace=True)\n",
    "# articles = pd.read_json('articles.json')\n",
    "\n",
    "articles.info()"
   ]
  },
  {
   "cell_type": "code",
   "execution_count": 4,
   "id": "d13acea4-2cc0-48a5-93ed-4af837a3a535",
   "metadata": {},
   "outputs": [
    {
     "data": {
      "text/html": [
       "<div>\n",
       "<style scoped>\n",
       "    .dataframe tbody tr th:only-of-type {\n",
       "        vertical-align: middle;\n",
       "    }\n",
       "\n",
       "    .dataframe tbody tr th {\n",
       "        vertical-align: top;\n",
       "    }\n",
       "\n",
       "    .dataframe thead th {\n",
       "        text-align: right;\n",
       "    }\n",
       "</style>\n",
       "<table border=\"1\" class=\"dataframe\">\n",
       "  <thead>\n",
       "    <tr style=\"text-align: right;\">\n",
       "      <th></th>\n",
       "      <th>_id</th>\n",
       "      <th>keywords</th>\n",
       "      <th>fos</th>\n",
       "      <th>text</th>\n",
       "    </tr>\n",
       "  </thead>\n",
       "  <tbody>\n",
       "    <tr>\n",
       "      <th>0</th>\n",
       "      <td>53e99784b7602d9701f3e151</td>\n",
       "      <td>handwriting recognition prototypes image segme...</td>\n",
       "      <td>Intelligent character recognition Pattern reco...</td>\n",
       "      <td>handwriting recognition prototypes image segme...</td>\n",
       "    </tr>\n",
       "    <tr>\n",
       "      <th>1</th>\n",
       "      <td>53e99784b7602d9701f3e15d</td>\n",
       "      <td>sequential circuits statistical distributions ...</td>\n",
       "      <td>Delay calculation Timing failure Monte Carlo m...</td>\n",
       "      <td>sequential circuits statistical distributions ...</td>\n",
       "    </tr>\n",
       "    <tr>\n",
       "      <th>2</th>\n",
       "      <td>53e99784b7602d9701f3f411</td>\n",
       "      <td>Internet hypermedia markup languages informati...</td>\n",
       "      <td>XML Base World Wide Web XML framework XML Encr...</td>\n",
       "      <td>Internet hypermedia markup languages informati...</td>\n",
       "    </tr>\n",
       "    <tr>\n",
       "      <th>3</th>\n",
       "      <td>53e99792b7602d9701f5af1a</td>\n",
       "      <td>cognition multi-agent systems ubiquitous compu...</td>\n",
       "      <td>Syma Computer science Symbiotic computing Mult...</td>\n",
       "      <td>cognition multi-agent systems ubiquitous compu...</td>\n",
       "    </tr>\n",
       "    <tr>\n",
       "      <th>4</th>\n",
       "      <td>53e99792b7602d9701f5b0a5</td>\n",
       "      <td>balanced scorecard</td>\n",
       "      <td>Lease Computer science Balanced scorecard Busi...</td>\n",
       "      <td>balanced scorecard Lease Computer science Bala...</td>\n",
       "    </tr>\n",
       "    <tr>\n",
       "      <th>...</th>\n",
       "      <td>...</td>\n",
       "      <td>...</td>\n",
       "      <td>...</td>\n",
       "      <td>...</td>\n",
       "    </tr>\n",
       "    <tr>\n",
       "      <th>1084400</th>\n",
       "      <td>6052d1c79e795e222b127d58</td>\n",
       "      <td>Sketch Information retrieval Solid modeling Ta...</td>\n",
       "      <td>Training set 3d model Task analysis Informatio...</td>\n",
       "      <td>Sketch Information retrieval Solid modeling Ta...</td>\n",
       "    </tr>\n",
       "    <tr>\n",
       "      <th>1084401</th>\n",
       "      <td>6052fa249e795e222b13be15</td>\n",
       "      <td>Hash function Random oracle Discrete mathemati...</td>\n",
       "      <td>Discrete mathematics Time space Computer scien...</td>\n",
       "      <td>Hash function Random oracle Discrete mathemati...</td>\n",
       "    </tr>\n",
       "    <tr>\n",
       "      <th>1084402</th>\n",
       "      <td>6054328e9e795e40330e1fa2</td>\n",
       "      <td>Stereopsis Computer vision Daytime Artificial ...</td>\n",
       "      <td>Network on Computer vision Computer science St...</td>\n",
       "      <td>Stereopsis Computer vision Daytime Artificial ...</td>\n",
       "    </tr>\n",
       "    <tr>\n",
       "      <th>1084403</th>\n",
       "      <td>605828249e795e357b471758</td>\n",
       "      <td>Search engine Data as a service Autonomous sys...</td>\n",
       "      <td>Search engine Situation awareness Computer sci...</td>\n",
       "      <td>Search engine Data as a service Autonomous sys...</td>\n",
       "    </tr>\n",
       "    <tr>\n",
       "      <th>1084404</th>\n",
       "      <td>605829309e795e357b47179d</td>\n",
       "      <td>Search engine indexing Controlled vocabulary O...</td>\n",
       "      <td>Content type Ontology (information science) Te...</td>\n",
       "      <td>Search engine indexing Controlled vocabulary O...</td>\n",
       "    </tr>\n",
       "  </tbody>\n",
       "</table>\n",
       "<p>1084405 rows × 4 columns</p>\n",
       "</div>"
      ],
      "text/plain": [
       "                              _id  \\\n",
       "0        53e99784b7602d9701f3e151   \n",
       "1        53e99784b7602d9701f3e15d   \n",
       "2        53e99784b7602d9701f3f411   \n",
       "3        53e99792b7602d9701f5af1a   \n",
       "4        53e99792b7602d9701f5b0a5   \n",
       "...                           ...   \n",
       "1084400  6052d1c79e795e222b127d58   \n",
       "1084401  6052fa249e795e222b13be15   \n",
       "1084402  6054328e9e795e40330e1fa2   \n",
       "1084403  605828249e795e357b471758   \n",
       "1084404  605829309e795e357b47179d   \n",
       "\n",
       "                                                  keywords  \\\n",
       "0        handwriting recognition prototypes image segme...   \n",
       "1        sequential circuits statistical distributions ...   \n",
       "2        Internet hypermedia markup languages informati...   \n",
       "3        cognition multi-agent systems ubiquitous compu...   \n",
       "4                                       balanced scorecard   \n",
       "...                                                    ...   \n",
       "1084400  Sketch Information retrieval Solid modeling Ta...   \n",
       "1084401  Hash function Random oracle Discrete mathemati...   \n",
       "1084402  Stereopsis Computer vision Daytime Artificial ...   \n",
       "1084403  Search engine Data as a service Autonomous sys...   \n",
       "1084404  Search engine indexing Controlled vocabulary O...   \n",
       "\n",
       "                                                       fos  \\\n",
       "0        Intelligent character recognition Pattern reco...   \n",
       "1        Delay calculation Timing failure Monte Carlo m...   \n",
       "2        XML Base World Wide Web XML framework XML Encr...   \n",
       "3        Syma Computer science Symbiotic computing Mult...   \n",
       "4        Lease Computer science Balanced scorecard Busi...   \n",
       "...                                                    ...   \n",
       "1084400  Training set 3d model Task analysis Informatio...   \n",
       "1084401  Discrete mathematics Time space Computer scien...   \n",
       "1084402  Network on Computer vision Computer science St...   \n",
       "1084403  Search engine Situation awareness Computer sci...   \n",
       "1084404  Content type Ontology (information science) Te...   \n",
       "\n",
       "                                                      text  \n",
       "0        handwriting recognition prototypes image segme...  \n",
       "1        sequential circuits statistical distributions ...  \n",
       "2        Internet hypermedia markup languages informati...  \n",
       "3        cognition multi-agent systems ubiquitous compu...  \n",
       "4        balanced scorecard Lease Computer science Bala...  \n",
       "...                                                    ...  \n",
       "1084400  Sketch Information retrieval Solid modeling Ta...  \n",
       "1084401  Hash function Random oracle Discrete mathemati...  \n",
       "1084402  Stereopsis Computer vision Daytime Artificial ...  \n",
       "1084403  Search engine Data as a service Autonomous sys...  \n",
       "1084404  Search engine indexing Controlled vocabulary O...  \n",
       "\n",
       "[1084405 rows x 4 columns]"
      ]
     },
     "execution_count": 4,
     "metadata": {},
     "output_type": "execute_result"
    }
   ],
   "source": [
    "articles"
   ]
  },
  {
   "cell_type": "markdown",
   "id": "49dbfdfd-1b29-45ad-b3c4-36797f08cd98",
   "metadata": {},
   "source": [
    "### Applying [Porter stemming](https://www.nltk.org/api/nltk.stem.porter.html) to normalize text data"
   ]
  },
  {
   "cell_type": "code",
   "execution_count": 5,
   "id": "a447204c-cb49-40d1-9ea5-dda51b34b670",
   "metadata": {},
   "outputs": [],
   "source": [
    "porter = PorterStemmer()"
   ]
  },
  {
   "cell_type": "code",
   "execution_count": 6,
   "id": "46965318-28f7-4c21-8e3b-75d0eddfa736",
   "metadata": {},
   "outputs": [
    {
     "data": {
      "application/vnd.jupyter.widget-view+json": {
       "model_id": "bcc0b950751f4801a50c95fe049dd256",
       "version_major": 2,
       "version_minor": 0
      },
      "text/plain": [
       "VBox(children=(HBox(children=(IntProgress(value=0, description='0.00%', max=542204), Label(value='0 / 542204')…"
      ]
     },
     "metadata": {},
     "output_type": "display_data"
    },
    {
     "name": "stdout",
     "output_type": "stream",
     "text": [
      "CPU times: total: 12.1 s\n",
      "Wall time: 30.4 s\n"
     ]
    }
   ],
   "source": [
    "%%time\n",
    "articles = articles.parallel_applymap(porter.stem)"
   ]
  },
  {
   "cell_type": "code",
   "execution_count": 7,
   "id": "24b63a51-4f9c-49d8-bed9-cee8b65a1147",
   "metadata": {},
   "outputs": [
    {
     "data": {
      "text/html": [
       "<div>\n",
       "<style scoped>\n",
       "    .dataframe tbody tr th:only-of-type {\n",
       "        vertical-align: middle;\n",
       "    }\n",
       "\n",
       "    .dataframe tbody tr th {\n",
       "        vertical-align: top;\n",
       "    }\n",
       "\n",
       "    .dataframe thead th {\n",
       "        text-align: right;\n",
       "    }\n",
       "</style>\n",
       "<table border=\"1\" class=\"dataframe\">\n",
       "  <thead>\n",
       "    <tr style=\"text-align: right;\">\n",
       "      <th></th>\n",
       "      <th>_id</th>\n",
       "      <th>keywords</th>\n",
       "      <th>fos</th>\n",
       "      <th>text</th>\n",
       "    </tr>\n",
       "  </thead>\n",
       "  <tbody>\n",
       "    <tr>\n",
       "      <th>0</th>\n",
       "      <td>53e99784b7602d9701f3e151</td>\n",
       "      <td>handwriting recognition prototypes image segme...</td>\n",
       "      <td>intelligent character recognition pattern reco...</td>\n",
       "      <td>handwriting recognition prototypes image segme...</td>\n",
       "    </tr>\n",
       "    <tr>\n",
       "      <th>1</th>\n",
       "      <td>53e99784b7602d9701f3e15d</td>\n",
       "      <td>sequential circuits statistical distributions ...</td>\n",
       "      <td>delay calculation timing failure monte carlo m...</td>\n",
       "      <td>sequential circuits statistical distributions ...</td>\n",
       "    </tr>\n",
       "    <tr>\n",
       "      <th>2</th>\n",
       "      <td>53e99784b7602d9701f3f411</td>\n",
       "      <td>internet hypermedia markup languages informati...</td>\n",
       "      <td>xml base world wide web xml framework xml encr...</td>\n",
       "      <td>internet hypermedia markup languages informati...</td>\n",
       "    </tr>\n",
       "    <tr>\n",
       "      <th>3</th>\n",
       "      <td>53e99792b7602d9701f5af1a</td>\n",
       "      <td>cognition multi-agent systems ubiquitous compu...</td>\n",
       "      <td>syma computer science symbiotic computing mult...</td>\n",
       "      <td>cognition multi-agent systems ubiquitous compu...</td>\n",
       "    </tr>\n",
       "    <tr>\n",
       "      <th>4</th>\n",
       "      <td>53e99792b7602d9701f5b0a5</td>\n",
       "      <td>balanced scorecard</td>\n",
       "      <td>lease computer science balanced scorecard busi...</td>\n",
       "      <td>balanced scorecard lease computer science bala...</td>\n",
       "    </tr>\n",
       "    <tr>\n",
       "      <th>...</th>\n",
       "      <td>...</td>\n",
       "      <td>...</td>\n",
       "      <td>...</td>\n",
       "      <td>...</td>\n",
       "    </tr>\n",
       "    <tr>\n",
       "      <th>1084400</th>\n",
       "      <td>6052d1c79e795e222b127d58</td>\n",
       "      <td>sketch information retrieval solid modeling ta...</td>\n",
       "      <td>training set 3d model task analysis informatio...</td>\n",
       "      <td>sketch information retrieval solid modeling ta...</td>\n",
       "    </tr>\n",
       "    <tr>\n",
       "      <th>1084401</th>\n",
       "      <td>6052fa249e795e222b13be15</td>\n",
       "      <td>hash function random oracle discrete mathemati...</td>\n",
       "      <td>discrete mathematics time space computer scien...</td>\n",
       "      <td>hash function random oracle discrete mathemati...</td>\n",
       "    </tr>\n",
       "    <tr>\n",
       "      <th>1084402</th>\n",
       "      <td>6054328e9e795e40330e1fa2</td>\n",
       "      <td>stereopsis computer vision daytime artificial ...</td>\n",
       "      <td>network on computer vision computer science st...</td>\n",
       "      <td>stereopsis computer vision daytime artificial ...</td>\n",
       "    </tr>\n",
       "    <tr>\n",
       "      <th>1084403</th>\n",
       "      <td>605828249e795e357b471758</td>\n",
       "      <td>search engine data as a service autonomous sys...</td>\n",
       "      <td>search engine situation awareness computer sci...</td>\n",
       "      <td>search engine data as a service autonomous sys...</td>\n",
       "    </tr>\n",
       "    <tr>\n",
       "      <th>1084404</th>\n",
       "      <td>605829309e795e357b47179d</td>\n",
       "      <td>search engine indexing controlled vocabulary o...</td>\n",
       "      <td>content type ontology (information science) te...</td>\n",
       "      <td>search engine indexing controlled vocabulary o...</td>\n",
       "    </tr>\n",
       "  </tbody>\n",
       "</table>\n",
       "<p>1084405 rows × 4 columns</p>\n",
       "</div>"
      ],
      "text/plain": [
       "                              _id  \\\n",
       "0        53e99784b7602d9701f3e151   \n",
       "1        53e99784b7602d9701f3e15d   \n",
       "2        53e99784b7602d9701f3f411   \n",
       "3        53e99792b7602d9701f5af1a   \n",
       "4        53e99792b7602d9701f5b0a5   \n",
       "...                           ...   \n",
       "1084400  6052d1c79e795e222b127d58   \n",
       "1084401  6052fa249e795e222b13be15   \n",
       "1084402  6054328e9e795e40330e1fa2   \n",
       "1084403  605828249e795e357b471758   \n",
       "1084404  605829309e795e357b47179d   \n",
       "\n",
       "                                                  keywords  \\\n",
       "0        handwriting recognition prototypes image segme...   \n",
       "1        sequential circuits statistical distributions ...   \n",
       "2        internet hypermedia markup languages informati...   \n",
       "3        cognition multi-agent systems ubiquitous compu...   \n",
       "4                                       balanced scorecard   \n",
       "...                                                    ...   \n",
       "1084400  sketch information retrieval solid modeling ta...   \n",
       "1084401  hash function random oracle discrete mathemati...   \n",
       "1084402  stereopsis computer vision daytime artificial ...   \n",
       "1084403  search engine data as a service autonomous sys...   \n",
       "1084404  search engine indexing controlled vocabulary o...   \n",
       "\n",
       "                                                       fos  \\\n",
       "0        intelligent character recognition pattern reco...   \n",
       "1        delay calculation timing failure monte carlo m...   \n",
       "2        xml base world wide web xml framework xml encr...   \n",
       "3        syma computer science symbiotic computing mult...   \n",
       "4        lease computer science balanced scorecard busi...   \n",
       "...                                                    ...   \n",
       "1084400  training set 3d model task analysis informatio...   \n",
       "1084401  discrete mathematics time space computer scien...   \n",
       "1084402  network on computer vision computer science st...   \n",
       "1084403  search engine situation awareness computer sci...   \n",
       "1084404  content type ontology (information science) te...   \n",
       "\n",
       "                                                      text  \n",
       "0        handwriting recognition prototypes image segme...  \n",
       "1        sequential circuits statistical distributions ...  \n",
       "2        internet hypermedia markup languages informati...  \n",
       "3        cognition multi-agent systems ubiquitous compu...  \n",
       "4        balanced scorecard lease computer science bala...  \n",
       "...                                                    ...  \n",
       "1084400  sketch information retrieval solid modeling ta...  \n",
       "1084401  hash function random oracle discrete mathemati...  \n",
       "1084402  stereopsis computer vision daytime artificial ...  \n",
       "1084403  search engine data as a service autonomous sys...  \n",
       "1084404  search engine indexing controlled vocabulary o...  \n",
       "\n",
       "[1084405 rows x 4 columns]"
      ]
     },
     "execution_count": 7,
     "metadata": {},
     "output_type": "execute_result"
    }
   ],
   "source": [
    "articles"
   ]
  },
  {
   "cell_type": "code",
   "execution_count": 8,
   "id": "e7ebb624-a110-4bbe-b15f-56074375c088",
   "metadata": {},
   "outputs": [],
   "source": [
    "vectorizer = TfidfVectorizer(max_df=0.5, min_df=10, stop_words='english')\n",
    "svd = TruncatedSVD(n_components=REDUCED_DIMENSION, random_state=RANDOM_STATE)\n",
    "kmeans = KMeans(n_clusters=NUM_CLUSTERS, random_state=RANDOM_STATE)\n",
    "\n",
    "pipe = Pipeline([\n",
    "    ('tfidf', vectorizer),\n",
    "    ('svd', svd),\n",
    "    ('kmeans', kmeans)\n",
    "])"
   ]
  },
  {
   "cell_type": "code",
   "execution_count": 9,
   "id": "9c0afa0b-a4eb-4863-8aeb-c43d556af15b",
   "metadata": {
    "tags": []
   },
   "outputs": [
    {
     "name": "stdout",
     "output_type": "stream",
     "text": [
      "(1084405, 100)\n",
      "CPU times: total: 32min 16s\n",
      "Wall time: 5min 50s\n"
     ]
    }
   ],
   "source": [
    "%%time\n",
    "pipe.fit(articles.text)\n",
    "\n",
    "cluster_ids, cluster_sizes = np.unique(kmeans.labels_, return_counts=True)\n",
    "\n",
    "articles_compressed = pipe[:-1].transform(articles.text)\n",
    "print(articles_compressed.shape)"
   ]
  },
  {
   "cell_type": "code",
   "execution_count": 10,
   "id": "ac93187c-22d6-4a8e-a4b0-f4ab1ef9c466",
   "metadata": {},
   "outputs": [
    {
     "name": "stdout",
     "output_type": "stream",
     "text": [
      "Score: 0.07780591489732268\n"
     ]
    }
   ],
   "source": [
    "print('Score:', get_score(articles_compressed, kmeans.labels_))  #n_com=100 0.06735451976061607"
   ]
  },
  {
   "cell_type": "markdown",
   "id": "3528b364-a643-4447-bdea-9f2b5d3aad03",
   "metadata": {},
   "source": [
    "### Cluster names based on tfidf score of cluster centers"
   ]
  },
  {
   "cell_type": "code",
   "execution_count": 11,
   "id": "38e9c2bd-f59e-4857-9ca9-f55f8dc34b97",
   "metadata": {},
   "outputs": [
    {
     "name": "stdout",
     "output_type": "stream",
     "text": [
      "Cluster 0: decision support tree making process\n",
      "Cluster 1: parallel memory computing architecture distributed\n",
      "Cluster 2: web world wide semantic service\n",
      "Cluster 3: information retrieval search web technology\n",
      "Cluster 4: sensor wireless network networks energy\n",
      "Cluster 5: robot mobile control robots kinematics\n",
      "Cluster 6: mathematics discrete matrix algorithm linear\n",
      "Cluster 7: fuzzy set logic control neuro\n",
      "Cluster 8: control theory engineering nonlinear systems\n",
      "Cluster 9: cache memory performance peer chip\n",
      "Cluster 10: routing protocol network link wireless\n",
      "Cluster 11: recognition face pattern facial artificial\n",
      "Cluster 12: mobile computing device network communication\n",
      "Cluster 13: filter kalman filters adaptive signal\n",
      "Cluster 14: game theory games equilibrium design\n",
      "Cluster 15: query search retrieval database language\n",
      "Cluster 16: graph mathematics combinatorics graphs discrete\n",
      "Cluster 17: network traffic wireless packet networks\n",
      "Cluster 18: fault tolerance tolerant test detection\n",
      "Cluster 19: speech recognition processing language speaker\n",
      "Cluster 20: data mining database information analysis\n",
      "Cluster 21: clustering cluster data algorithm analysis\n",
      "Cluster 22: user interface interaction human design\n",
      "Cluster 23: knowledge management information business base\n",
      "Cluster 24: learning machine artificial intelligence supervised\n",
      "Cluster 25: business process management model modeling\n",
      "Cluster 26: wavelet transform discrete image fourier\n",
      "Cluster 27: language programming natural processing formal\n",
      "Cluster 28: image vision color images processing\n",
      "Cluster 29: service quality services web architecture\n",
      "Cluster 30: hoc ad network wireless mobile\n",
      "Cluster 31: optimization algorithm genetic problem mathematical\n",
      "Cluster 32: scheduling computing priority time job\n",
      "Cluster 33: software engineering development process architecture\n",
      "Cluster 34: social network media psychology information\n",
      "Cluster 35: video coding compression quality tracking\n",
      "Cluster 36: neural network artificial networks learning\n",
      "Cluster 37: security authentication key privacy information\n",
      "Cluster 38: model based analysis data time\n",
      "Cluster 39: motion estimation planning vision image\n",
      "Cluster 40: segmentation image vision space object\n",
      "Cluster 41: noise signal ratio gaussian processing\n",
      "Cluster 42: feature vector machine extraction classification\n",
      "Cluster 43: radar aperture synthetic sensing remote\n",
      "Cluster 44: power engineering circuit voltage energy\n",
      "Cluster 45: object oriented programming detection tracking\n",
      "Cluster 46: ontology semantic information ontologies web\n",
      "Cluster 47: channel mimo frequency code communication\n",
      "Cluster 48: logic probabilistic programming temporal gate\n",
      "Cluster 49: virtual reality environment interaction machine\n"
     ]
    }
   ],
   "source": [
    "original_space_centroids = svd.inverse_transform(kmeans.cluster_centers_)\n",
    "order_centroids = original_space_centroids.argsort()[:, ::-1]\n",
    "terms = vectorizer.get_feature_names_out()\n",
    "cluster_names = terms[order_centroids[:, 0]]\n",
    "\n",
    "topK = 5\n",
    "for i in range(NUM_CLUSTERS):\n",
    "    print(f'Cluster {i}: ', end='')\n",
    "    print(' '.join(terms[order_centroids[i, :topK]]))"
   ]
  },
  {
   "cell_type": "code",
   "execution_count": 12,
   "id": "23f08af9-f09a-416b-8d50-0e3057a61c71",
   "metadata": {},
   "outputs": [
    {
     "data": {
      "image/png": "[encoded data removed]",
      "text/plain": [
       "<Figure size 1296x504 with 1 Axes>"
      ]
     },
     "metadata": {
      "needs_background": "light"
     },
     "output_type": "display_data"
    }
   ],
   "source": [
    "plot_clusters(cluster_ids, cluster_sizes, cluster_names)"
   ]
  },
  {
   "cell_type": "markdown",
   "id": "e80b22e4-cf2d-4c77-a16e-79ac84ca9775",
   "metadata": {},
   "source": [
    "### Cluster names based on top words from `keyrowds` + `fos`"
   ]
  },
  {
   "cell_type": "code",
   "execution_count": 13,
   "id": "42c45316-d3e3-4bbc-9fc0-2dd900484a16",
   "metadata": {},
   "outputs": [
    {
     "name": "stdout",
     "output_type": "stream",
     "text": [
      "Cluster 0: decision system support computer science\n",
      "Cluster 1: computer parallel memory computing science\n",
      "Cluster 2: web computer science semantic world\n",
      "Cluster 3: information retrieval computer science system\n",
      "Cluster 4: sensor wireless network computer networks\n",
      "Cluster 5: robot control mobile computer engineering\n",
      "Cluster 6: mathematics algorithm discrete matrix mathemat\n",
      "Cluster 7: fuzzy set control system logic\n",
      "Cluster 8: control system theory engineering systems\n",
      "Cluster 9: cache computer memory science system\n",
      "Cluster 10: routing protocol network computer wireless\n",
      "Cluster 11: recognition computer face artificial pattern\n",
      "Cluster 12: mobile computer computing network science\n",
      "Cluster 13: filter kalman filters computer adaptive\n",
      "Cluster 14: game computer science design theory\n",
      "Cluster 15: query data computer science search\n",
      "Cluster 16: graph mathematics computer science combinatorics\n",
      "Cluster 17: network computer science wireless traffic\n",
      "Cluster 18: fault computer system tolerance science\n",
      "Cluster 19: speech recognition computer science model\n",
      "Cluster 20: data computer science mining database\n",
      "Cluster 21: clustering data algorithm cluster analysis\n",
      "Cluster 22: user computer interface design interaction\n",
      "Cluster 23: knowledge management system science computer\n",
      "Cluster 24: learning computer science artificial machine\n",
      "Cluster 25: business process management model modeling\n",
      "Cluster 26: wavelet transform image discrete computer\n",
      "Cluster 27: language programming computer science natural\n",
      "Cluster 28: image computer artificial vision intelligence\n",
      "Cluster 29: service computer web science quality\n",
      "Cluster 30: network ad hoc wireless computer\n",
      "Cluster 31: optimization algorithm problem mathematical computer\n",
      "Cluster 32: scheduling computer algorithm science (computing)\n",
      "Cluster 33: software engineering computer development system\n",
      "Cluster 34: social network science computer media\n",
      "Cluster 35: video computer coding science compression\n",
      "Cluster 36: neural network artificial computer science\n",
      "Cluster 37: security computer science information authentication\n",
      "Cluster 38: computer science system model data\n",
      "Cluster 39: motion computer estimation image vision\n",
      "Cluster 40: segmentation image computer artificial intelligence\n",
      "Cluster 41: noise signal ratio computer gaussian\n",
      "Cluster 42: feature vector machine computer artificial\n",
      "Cluster 43: radar aperture synthetic sensing remote\n",
      "Cluster 44: power engineering circuit system design\n",
      "Cluster 45: object computer programming science model\n",
      "Cluster 46: ontology semantic science computer data\n",
      "Cluster 47: channel computer communication code error\n",
      "Cluster 48: logic computer science programming design\n",
      "Cluster 49: virtual computer reality science system\n"
     ]
    }
   ],
   "source": [
    "cluster_names_counter = []\n",
    "\n",
    "for cluster_id in range(NUM_CLUSTERS):\n",
    "    cluster = articles.loc[np.argwhere(kmeans.labels_ == cluster_id).flatten()]\n",
    "    c = Counter(' '.join((cluster.keywords + ' ' + cluster.fos).values).split())\n",
    "    print(f'Cluster {cluster_id}: ', end='')\n",
    "    top_words = c.most_common(topK)\n",
    "    print(' '.join(pair[0] for pair in top_words))\n",
    "    cluster_names_counter.append(top_words[0][0])"
   ]
  },
  {
   "cell_type": "code",
   "execution_count": 14,
   "id": "d5676172-2a00-489c-90fe-89810972cea2",
   "metadata": {},
   "outputs": [
    {
     "data": {
      "image/png": "[encoded data removed]",
      "text/plain": [
       "<Figure size 1296x504 with 1 Axes>"
      ]
     },
     "metadata": {
      "needs_background": "light"
     },
     "output_type": "display_data"
    }
   ],
   "source": [
    "plot_clusters(cluster_ids, cluster_sizes, cluster_names_counter)"
   ]
  }
 ],
 "metadata": {
  "kernelspec": {
   "display_name": "Python 3 (ipykernel)",
   "language": "python",
   "name": "python3"
  },
  "language_info": {
   "codemirror_mode": {
    "name": "ipython",
    "version": 3
   },
   "file_extension": ".py",
   "mimetype": "text/x-python",
   "name": "python",
   "nbconvert_exporter": "python",
   "pygments_lexer": "ipython3",
   "version": "3.9.10"
  }
 },
 "nbformat": 4,
 "nbformat_minor": 5
}
