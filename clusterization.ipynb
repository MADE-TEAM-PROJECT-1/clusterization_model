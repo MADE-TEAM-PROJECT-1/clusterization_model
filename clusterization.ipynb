{
 "cells": [
  {
   "cell_type": "code",
   "execution_count": 1,
   "id": "85e24022-7415-48c2-b1ea-e5adf3ce4b91",
   "metadata": {},
   "outputs": [],
   "source": [
    "import pandas as pd\n",
    "import numpy as np\n",
    "import matplotlib.pylab as plt\n",
    "from sklearn.cluster import KMeans\n",
    "from sklearn.feature_extraction.text import TfidfVectorizer\n",
    "from sklearn.decomposition import TruncatedSVD\n",
    "from sklearn.pipeline import Pipeline\n",
    "from sklearn.metrics import silhouette_score"
   ]
  },
  {
   "cell_type": "markdown",
   "id": "725fc1d8-0179-4855-b37c-f1b8e67f8bcd",
   "metadata": {},
   "source": [
    "### We dont know true cluster labels. In this case we can use [Silhouette Coefficient](https://scikit-learn.org/stable/modules/generated/sklearn.metrics.silhouette_score.html) for calculating score of clusterization. The best value is 1 and the worst value is -1. Values near 0 indicate overlapping clusters."
   ]
  },
  {
   "cell_type": "code",
   "execution_count": 50,
   "id": "19e68360-59dc-404b-8fe7-c4949bb2d2a8",
   "metadata": {},
   "outputs": [],
   "source": [
    "COLUMNS_TO_DROP = ['_id', 'year', 'n_citation', 'references', 'authors']\n",
    "NUM_PARTS = 3\n",
    "RANDOM_STATE = 42\n",
    "REDUCED_DIMENSION = 100\n",
    "NUM_CLUSTERS = 50\n",
    "\n",
    "def plot_clusters(cluster_ids, cluster_sizes):\n",
    "    plt.figure(figsize=(18, 7))\n",
    "    plt.bar(cluster_ids, cluster_sizes)\n",
    "    plt.xlabel('Cluster id')\n",
    "    plt.title('Cluster sizes')\n",
    "    plt.show()\n",
    "\n",
    "def get_score(X, cluster_labels, sample_size=10000):\n",
    "    return silhouette_score(X, pipe['kmeans'].labels_, sample_size=sample_size, random_state=RANDOM_STATE)\n",
    "\n",
    "def get_text_data(file_path):\n",
    "    data = pd.read_json('data/part_1_clean.json', dtype={'title': 'string', 'abstract': 'string'}).drop(COLUMNS_TO_DROP, axis=1)\n",
    "    data['keywords'] = data['keywords'].apply(lambda row: ' '.join(row)).astype('string')\n",
    "    data['fos'] = data['fos'].apply(lambda row: ' '.join(row)).astype('string')\n",
    "    data['venue'] = data['venue'].apply(lambda row: row.get('name_d', '')).astype('string')\n",
    "    \n",
    "    data['text'] = data.apply(lambda row: ' '.join(row.astype(str)), axis=1).astype('string')\n",
    "    data.drop(['title', 'abstract', 'venue'], axis=1, inplace=True)\n",
    "    return data"
   ]
  },
  {
   "cell_type": "code",
   "execution_count": 51,
   "id": "13e0289a-179c-4f51-b8a7-662720219532",
   "metadata": {},
   "outputs": [],
   "source": [
    "part1 = get_text_data('data/part_1_clean.json')"
   ]
  },
  {
   "cell_type": "code",
   "execution_count": 52,
   "id": "755c3ed2-9005-4679-9237-49bbba9bcc17",
   "metadata": {},
   "outputs": [
    {
     "name": "stdout",
     "output_type": "stream",
     "text": [
      "<class 'pandas.core.frame.DataFrame'>\n",
      "Int64Index: 511602 entries, 0 to 511601\n",
      "Data columns (total 3 columns):\n",
      " #   Column    Non-Null Count   Dtype \n",
      "---  ------    --------------   ----- \n",
      " 0   keywords  511602 non-null  string\n",
      " 1   fos       511602 non-null  string\n",
      " 2   text      511602 non-null  string\n",
      "dtypes: string(3)\n",
      "memory usage: 15.6 MB\n"
     ]
    }
   ],
   "source": [
    "part1.info()"
   ]
  },
  {
   "cell_type": "markdown",
   "id": "d7078256-1648-4d13-a1e1-1cf37af65d9a",
   "metadata": {},
   "source": [
    "### Time consuming cell below: 3 parts are loaded, transformed and concatenated together."
   ]
  },
  {
   "cell_type": "code",
   "execution_count": 57,
   "id": "a7ff42e0-2a9e-4ad1-9253-3b8efbcf3db9",
   "metadata": {},
   "outputs": [
    {
     "name": "stdout",
     "output_type": "stream",
     "text": [
      "<class 'pandas.core.frame.DataFrame'>\n",
      "Int64Index: 1534806 entries, 0 to 511601\n",
      "Data columns (total 3 columns):\n",
      " #   Column    Non-Null Count    Dtype \n",
      "---  ------    --------------    ----- \n",
      " 0   keywords  1534806 non-null  string\n",
      " 1   fos       1534806 non-null  string\n",
      " 2   text      1534806 non-null  string\n",
      "dtypes: string(3)\n",
      "memory usage: 46.8 MB\n"
     ]
    }
   ],
   "source": [
    "articles = pd.concat(get_text_data(f'data/part_{i}_clean.json') for i in range(NUM_PARTS))\n",
    "articles.reset_index(drop=True, inplace=True)\n",
    "articles.info()"
   ]
  },
  {
   "cell_type": "code",
   "execution_count": 65,
   "id": "d13acea4-2cc0-48a5-93ed-4af837a3a535",
   "metadata": {},
   "outputs": [
    {
     "data": {
      "text/html": [
       "<div>\n",
       "<style scoped>\n",
       "    .dataframe tbody tr th:only-of-type {\n",
       "        vertical-align: middle;\n",
       "    }\n",
       "\n",
       "    .dataframe tbody tr th {\n",
       "        vertical-align: top;\n",
       "    }\n",
       "\n",
       "    .dataframe thead th {\n",
       "        text-align: right;\n",
       "    }\n",
       "</style>\n",
       "<table border=\"1\" class=\"dataframe\">\n",
       "  <thead>\n",
       "    <tr style=\"text-align: right;\">\n",
       "      <th></th>\n",
       "      <th>keywords</th>\n",
       "      <th>fos</th>\n",
       "      <th>text</th>\n",
       "    </tr>\n",
       "  </thead>\n",
       "  <tbody>\n",
       "    <tr>\n",
       "      <th>0</th>\n",
       "      <td>handwriting recognition prototypes image segme...</td>\n",
       "      <td>Intelligent character recognition Pattern reco...</td>\n",
       "      <td>A solution to the problem of touching and brok...</td>\n",
       "    </tr>\n",
       "    <tr>\n",
       "      <th>1</th>\n",
       "      <td>sequential circuits statistical distributions ...</td>\n",
       "      <td>Delay calculation Timing failure Monte Carlo m...</td>\n",
       "      <td>Timing yield estimation using statistical stat...</td>\n",
       "    </tr>\n",
       "    <tr>\n",
       "      <th>2</th>\n",
       "      <td>Internet hypermedia markup languages informati...</td>\n",
       "      <td>XML Base World Wide Web XML framework XML Encr...</td>\n",
       "      <td>Using XML to Integrate Existing Software Syste...</td>\n",
       "    </tr>\n",
       "    <tr>\n",
       "      <th>3</th>\n",
       "      <td>cognition multi-agent systems ubiquitous compu...</td>\n",
       "      <td>Syma Computer science Symbiotic computing Mult...</td>\n",
       "      <td>The design of awareness and operation module f...</td>\n",
       "    </tr>\n",
       "    <tr>\n",
       "      <th>4</th>\n",
       "      <td>balanced scorecard</td>\n",
       "      <td>Lease Computer science Balanced scorecard Busi...</td>\n",
       "      <td>A Model for Evaluating the Effectiveness of th...</td>\n",
       "    </tr>\n",
       "    <tr>\n",
       "      <th>...</th>\n",
       "      <td>...</td>\n",
       "      <td>...</td>\n",
       "      <td>...</td>\n",
       "    </tr>\n",
       "    <tr>\n",
       "      <th>1534801</th>\n",
       "      <td>data mining probability density function montg...</td>\n",
       "      <td>Integer Cryptography Modular arithmetic Parall...</td>\n",
       "      <td>Modular Reduction without Precomputational Pha...</td>\n",
       "    </tr>\n",
       "    <tr>\n",
       "      <th>1534802</th>\n",
       "      <td>particle filters video tracking data fusion in...</td>\n",
       "      <td>Computer vision Space technology Identifier In...</td>\n",
       "      <td>Video-radio fusion approach for target trackin...</td>\n",
       "    </tr>\n",
       "    <tr>\n",
       "      <th>1534803</th>\n",
       "      <td>visualization load balancing parallel processi...</td>\n",
       "      <td>Computer architecture Visualization Load balan...</td>\n",
       "      <td>Survey of parallel approaches to scientific vi...</td>\n",
       "    </tr>\n",
       "    <tr>\n",
       "      <th>1534804</th>\n",
       "      <td>parallel distributed compensation scheme lyapu...</td>\n",
       "      <td>Lyapunov function Stability criterion Mathemat...</td>\n",
       "      <td>Stability Analysis of Time-Delay Fuzzy Systems...</td>\n",
       "    </tr>\n",
       "    <tr>\n",
       "      <th>1534805</th>\n",
       "      <td>feature-term logic fast unification general ca...</td>\n",
       "      <td>Horn clause Exponential function Algebra Negat...</td>\n",
       "      <td>Horn extended feature structures: fast unifica...</td>\n",
       "    </tr>\n",
       "  </tbody>\n",
       "</table>\n",
       "<p>1534806 rows × 3 columns</p>\n",
       "</div>"
      ],
      "text/plain": [
       "                                                  keywords  \\\n",
       "0        handwriting recognition prototypes image segme...   \n",
       "1        sequential circuits statistical distributions ...   \n",
       "2        Internet hypermedia markup languages informati...   \n",
       "3        cognition multi-agent systems ubiquitous compu...   \n",
       "4                                       balanced scorecard   \n",
       "...                                                    ...   \n",
       "1534801  data mining probability density function montg...   \n",
       "1534802  particle filters video tracking data fusion in...   \n",
       "1534803  visualization load balancing parallel processi...   \n",
       "1534804  parallel distributed compensation scheme lyapu...   \n",
       "1534805  feature-term logic fast unification general ca...   \n",
       "\n",
       "                                                       fos  \\\n",
       "0        Intelligent character recognition Pattern reco...   \n",
       "1        Delay calculation Timing failure Monte Carlo m...   \n",
       "2        XML Base World Wide Web XML framework XML Encr...   \n",
       "3        Syma Computer science Symbiotic computing Mult...   \n",
       "4        Lease Computer science Balanced scorecard Busi...   \n",
       "...                                                    ...   \n",
       "1534801  Integer Cryptography Modular arithmetic Parall...   \n",
       "1534802  Computer vision Space technology Identifier In...   \n",
       "1534803  Computer architecture Visualization Load balan...   \n",
       "1534804  Lyapunov function Stability criterion Mathemat...   \n",
       "1534805  Horn clause Exponential function Algebra Negat...   \n",
       "\n",
       "                                                      text  \n",
       "0        A solution to the problem of touching and brok...  \n",
       "1        Timing yield estimation using statistical stat...  \n",
       "2        Using XML to Integrate Existing Software Syste...  \n",
       "3        The design of awareness and operation module f...  \n",
       "4        A Model for Evaluating the Effectiveness of th...  \n",
       "...                                                    ...  \n",
       "1534801  Modular Reduction without Precomputational Pha...  \n",
       "1534802  Video-radio fusion approach for target trackin...  \n",
       "1534803  Survey of parallel approaches to scientific vi...  \n",
       "1534804  Stability Analysis of Time-Delay Fuzzy Systems...  \n",
       "1534805  Horn extended feature structures: fast unifica...  \n",
       "\n",
       "[1534806 rows x 3 columns]"
      ]
     },
     "execution_count": 65,
     "metadata": {},
     "output_type": "execute_result"
    }
   ],
   "source": [
    "articles"
   ]
  },
  {
   "cell_type": "code",
   "execution_count": 66,
   "id": "e7ebb624-a110-4bbe-b15f-56074375c088",
   "metadata": {},
   "outputs": [],
   "source": [
    "vectorizer = TfidfVectorizer(max_df=0.1, min_df=5, stop_words='english')\n",
    "svd = TruncatedSVD(n_components=REDUCED_DIMENSION, random_state=RANDOM_STATE)\n",
    "kmeans = KMeans(n_clusters=NUM_CLUSTERS, random_state=RANDOM_STATE)\n",
    "\n",
    "pipe = Pipeline([\n",
    "    ('tfidf', vectorizer),\n",
    "    ('svd', svd),\n",
    "    ('kmeans', kmeans)\n",
    "])"
   ]
  },
  {
   "cell_type": "code",
   "execution_count": 67,
   "id": "9c0afa0b-a4eb-4863-8aeb-c43d556af15b",
   "metadata": {
    "tags": []
   },
   "outputs": [],
   "source": [
    "pipe.fit(articles.text)\n",
    "\n",
    "cluster_ids, cluster_sizes = np.unique(kmeans.labels_, return_counts=True)"
   ]
  },
  {
   "cell_type": "code",
   "execution_count": 79,
   "id": "37ff90fd-2a11-4794-b4b5-9759746aaaaf",
   "metadata": {},
   "outputs": [
    {
     "name": "stdout",
     "output_type": "stream",
     "text": [
      "(1534806, 100)\n"
     ]
    }
   ],
   "source": [
    "articles_compressed = pipe[:-1].transform(articles.text)\n",
    "print(articles_compressed.shape)"
   ]
  },
  {
   "cell_type": "code",
   "execution_count": 69,
   "id": "ac93187c-22d6-4a8e-a4b0-f4ab1ef9c466",
   "metadata": {},
   "outputs": [
    {
     "name": "stdout",
     "output_type": "stream",
     "text": [
      "Score: 0.11644531182964452\n"
     ]
    }
   ],
   "source": [
    "print('Score:', get_score(articles_compressed, kmeans.labels_))"
   ]
  },
  {
   "cell_type": "code",
   "execution_count": 70,
   "id": "137f2584-4fcc-4f4c-b4d2-f444d796512d",
   "metadata": {},
   "outputs": [
    {
     "data": {
      "image/png": "[encoded data removed]",
      "text/plain": [
       "<Figure size 1296x504 with 1 Axes>"
      ]
     },
     "metadata": {
      "needs_background": "light"
     },
     "output_type": "display_data"
    }
   ],
   "source": [
    "plot_clusters(cluster_ids, cluster_sizes)"
   ]
  },
  {
   "cell_type": "code",
   "execution_count": 80,
   "id": "38e9c2bd-f59e-4857-9ca9-f55f8dc34b97",
   "metadata": {},
   "outputs": [
    {
     "name": "stdout",
     "output_type": "stream",
     "text": [
      "Cluster 0: agent multi agents intelligent architecture mobile autonomous environment multiagent human\n",
      "Cluster 1: linear filter matrix noise signal nonlinear estimation adaptive function stability\n",
      "Cluster 2: sensor wireless energy key fusion node mobile sensors distribution nodes\n",
      "Cluster 3: web semantic world wide services service page internet pages search\n",
      "Cluster 4: xml document schema documents database query structure interchange validation efficient\n",
      "Cluster 5: power circuit cmos circuits voltage integrated low electronic chip electronics\n",
      "Cluster 6: feature classification extraction vector face support selection detection classifier features\n",
      "Cluster 7: video coding motion compression quality multimedia rate tracking frame content\n",
      "Cluster 8: fuzzy logic neuro sets classification membership defuzzification neural inference adaptive\n",
      "Cluster 9: logic temporal probabilistic semantics modal reasoning gate logics calculus synthesis\n",
      "Cluster 10: traffic wireless multicast packet protocol internet service bandwidth access quality\n",
      "Cluster 11: database relational databases schema transaction query mining retrieval sql object\n",
      "Cluster 12: memory shared parallel access cache architecture chip storage embedded hardware\n",
      "Cluster 13: security authentication key protocol cryptography secure encryption attack access scheme\n",
      "Cluster 14: retrieval search document engine text content query semantic web indexing\n",
      "Cluster 15: clustering cluster fuzzy mining clusters correlation hierarchical means cure document\n",
      "Cluster 16: graph graphs discrete combinatorics vertex planar edge directed bipartite vertices\n",
      "Cluster 17: robot robots mobile robotics motion kinematics planning humanoid human navigation\n",
      "Cluster 18: optimization genetic evolutionary computation swarm particle search mathematical objective multi\n",
      "Cluster 19: architecture programmable hardware field gate embedded array fpga chip reconfigurable\n",
      "Cluster 20: mobile device wireless devices service interaction phone multimedia location mobility\n",
      "Cluster 21: channel mimo frequency fading interference code error radio division ofdm\n",
      "Cluster 22: cache memory caching adaptive storage processor linear smart instruction probabilistic\n",
      "Cluster 23: development formal specification verification requirements product project component quality modeling\n",
      "Cluster 24: parallel processor memory parallelism computation load program execution message architecture\n",
      "Cluster 25: wavelet transform compression discrete transforms fourier coding signal decomposition packet\n",
      "Cluster 26: object oriented objects detection tracking visual modeling java component class\n",
      "Cluster 27: virtual reality environment interaction augmented human haptic 3d graphics environments\n",
      "Cluster 28: business modeling enterprise commerce electronic organizational processes marketing workflow service\n",
      "Cluster 29: test testing generation coverage fault automatic case circuit reliability regression\n",
      "Cluster 30: service services web quality oriented architecture qos composition business provider\n",
      "Cluster 31: neural recurrent nets function nonlinear backpropagation feedforward delay classification training\n",
      "Cluster 32: energy consumption efficient power wireless sensor efficiency conservation mobile embedded\n",
      "Cluster 33: social media online web community psychology world interaction users internet\n",
      "Cluster 34: hoc ad wireless mobile routing protocol vehicular service link protocols\n",
      "Cluster 35: fault tolerance tolerant detection faults reliability diagnosis test failure coverage\n",
      "Cluster 36: routing protocol wireless link hoc ad path protocols state source\n",
      "Cluster 37: privacy internet security location trust preserving protection mining social users\n",
      "Cluster 38: motion graphics 3d radar images color reconstruction visualization estimation sensing\n",
      "Cluster 39: query queries retrieval search web database expansion optimization relational spatial\n",
      "Cluster 40: segmentation object images texture region space scale color categorization detection\n",
      "Cluster 41: speech association speaker natural word synthesis audio noise signal acoustic\n",
      "Cluster 42: ontology semantic ontologies web domain integration upper owl retrieval alignment\n",
      "Cluster 43: scheduling priority job dynamic shop fair resource task parallel share\n",
      "Cluster 44: grid resource smart service workflow middleware resources grids environment services\n",
      "Cluster 45: cloud service resource storage security services virtual infrastructure clouds virtualization\n",
      "Cluster 46: decision support tree making intelligent rule mining reasoning group trees\n",
      "Cluster 47: peer p2p file overlay sharing content server internet peers bandwidth\n",
      "Cluster 48: human interaction function structure complexity natural mining digital context interface\n",
      "Cluster 49: markov chain hidden supply models random stochastic processes carlo monte\n"
     ]
    }
   ],
   "source": [
    "original_space_centroids = svd.inverse_transform(kmeans.cluster_centers_)\n",
    "order_centroids = original_space_centroids.argsort()[:, ::-1]\n",
    "terms = vectorizer.get_feature_names_out()\n",
    "\n",
    "topK = 10\n",
    "for i in range(NUM_CLUSTERS):\n",
    "    print(f'Cluster {i}: ', end='')\n",
    "    print(' '.join(terms[order_centroids[i, :topK]]))"
   ]
  },
  {
   "cell_type": "code",
   "execution_count": null,
   "id": "42c45316-d3e3-4bbc-9fc0-2dd900484a16",
   "metadata": {},
   "outputs": [],
   "source": []
  }
 ],
 "metadata": {
  "kernelspec": {
   "display_name": "Python 3 (ipykernel)",
   "language": "python",
   "name": "python3"
  },
  "language_info": {
   "codemirror_mode": {
    "name": "ipython",
    "version": 3
   },
   "file_extension": ".py",
   "mimetype": "text/x-python",
   "name": "python",
   "nbconvert_exporter": "python",
   "pygments_lexer": "ipython3",
   "version": "3.9.10"
  }
 },
 "nbformat": 4,
 "nbformat_minor": 5
}
