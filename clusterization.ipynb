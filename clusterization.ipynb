{
 "cells": [
  {
   "cell_type": "code",
   "execution_count": 1,
   "id": "85e24022-7415-48c2-b1ea-e5adf3ce4b91",
   "metadata": {},
   "outputs": [
    {
     "name": "stdout",
     "output_type": "stream",
     "text": [
      "INFO: Pandarallel will run on 8 workers.\n",
      "INFO: Pandarallel will use standard multiprocessing data transfer (pipe) to transfer data between the main process and workers.\n",
      "\n",
      "WARNING: You are on Windows. If you detect any issue with pandarallel, be sure you checked out the Troubleshooting page:\n",
      "https://nalepae.github.io/pandarallel/troubleshooting/\n"
     ]
    }
   ],
   "source": [
    "import pandas as pd\n",
    "import numpy as np\n",
    "import matplotlib.pylab as plt\n",
    "from sklearn.cluster import KMeans\n",
    "from sklearn.feature_extraction.text import TfidfVectorizer\n",
    "from sklearn.decomposition import TruncatedSVD\n",
    "from sklearn.pipeline import Pipeline\n",
    "from sklearn.metrics import silhouette_score\n",
    "from collections import Counter\n",
    "from pandarallel import pandarallel\n",
    "\n",
    "pandarallel.initialize(progress_bar=True)"
   ]
  },
  {
   "cell_type": "markdown",
   "id": "725fc1d8-0179-4855-b37c-f1b8e67f8bcd",
   "metadata": {},
   "source": [
    "### We dont know true cluster labels. In this case we can use [Silhouette Coefficient](https://scikit-learn.org/stable/modules/generated/sklearn.metrics.silhouette_score.html) for calculating score of clusterization. The best value is 1 and the worst value is -1. Values near 0 indicate overlapping clusters."
   ]
  },
  {
   "cell_type": "code",
   "execution_count": 2,
   "id": "19e68360-59dc-404b-8fe7-c4949bb2d2a8",
   "metadata": {},
   "outputs": [],
   "source": [
    "COLUMNS_TO_DROP = ['_id', 'year', 'n_citation', 'references', 'authors']\n",
    "NUM_PARTS = 3\n",
    "RANDOM_STATE = 42\n",
    "REDUCED_DIMENSION = 60\n",
    "NUM_CLUSTERS = 50\n",
    "\n",
    "def plot_clusters(cluster_ids, cluster_sizes, cluster_names):\n",
    "    plt.figure(figsize=(18, 7))\n",
    "    plt.bar(cluster_ids, cluster_sizes)\n",
    "    plt.xlabel('Cluster id')\n",
    "    plt.xticks(range(NUM_CLUSTERS))\n",
    "    plt.title('Cluster sizes')\n",
    "    ax = plt.gca()\n",
    "    for bar, word in zip(ax.patches, cluster_names):\n",
    "        ax.text(bar.get_x() + bar.get_width() / 4, bar.get_y() + bar.get_height()*1.05, word, rotation='vertical', color = 'black', va = 'bottom', fontsize=10) \n",
    "    plt.show()\n",
    "\n",
    "def get_score(X, cluster_labels, sample_size=10000):\n",
    "    return silhouette_score(X, pipe['kmeans'].labels_, sample_size=sample_size, random_state=RANDOM_STATE)\n",
    "\n",
    "def get_text_data(file_path):\n",
    "    data = pd.read_json('data/part_1_clean.json', dtype={'title': 'string', 'abstract': 'string'}).drop(COLUMNS_TO_DROP, axis=1)\n",
    "    data['keywords'] = data['keywords'].apply(lambda row: ' '.join(row)).astype('string')\n",
    "    data['fos'] = data['fos'].apply(lambda row: ' '.join(row)).astype('string')\n",
    "    data['venue'] = data['venue'].apply(lambda row: row.get('name_d', '')).astype('string')\n",
    "    \n",
    "    data['text'] = data.apply(lambda row: ' '.join(row.astype(str)), axis=1).astype('string')\n",
    "    data.drop(['title', 'abstract', 'venue'], axis=1, inplace=True)\n",
    "    return data"
   ]
  },
  {
   "cell_type": "markdown",
   "id": "d7078256-1648-4d13-a1e1-1cf37af65d9a",
   "metadata": {},
   "source": [
    "### Time consuming cell below: 3 parts are loaded, transformed and concatenated together."
   ]
  },
  {
   "cell_type": "code",
   "execution_count": 3,
   "id": "5d71ab03-5ec9-4d83-8e67-deeabd98e413",
   "metadata": {},
   "outputs": [
    {
     "name": "stdout",
     "output_type": "stream",
     "text": [
      "<class 'pandas.core.frame.DataFrame'>\n",
      "Int64Index: 1534806 entries, 0 to 1534805\n",
      "Data columns (total 3 columns):\n",
      " #   Column    Non-Null Count    Dtype \n",
      "---  ------    --------------    ----- \n",
      " 0   keywords  1534806 non-null  object\n",
      " 1   fos       1534806 non-null  object\n",
      " 2   text      1534806 non-null  object\n",
      "dtypes: object(3)\n",
      "memory usage: 46.8+ MB\n"
     ]
    }
   ],
   "source": [
    "# articles = pd.concat(get_text_data(f'data/part_{i}_clean.json') for i in range(NUM_PARTS))\n",
    "# articles.reset_index(drop=True, inplace=True)\n",
    "articles = pd.read_json('articles.json')\n",
    "\n",
    "articles.info()"
   ]
  },
  {
   "cell_type": "code",
   "execution_count": 4,
   "id": "d13acea4-2cc0-48a5-93ed-4af837a3a535",
   "metadata": {},
   "outputs": [
    {
     "data": {
      "text/html": [
       "<div>\n",
       "<style scoped>\n",
       "    .dataframe tbody tr th:only-of-type {\n",
       "        vertical-align: middle;\n",
       "    }\n",
       "\n",
       "    .dataframe tbody tr th {\n",
       "        vertical-align: top;\n",
       "    }\n",
       "\n",
       "    .dataframe thead th {\n",
       "        text-align: right;\n",
       "    }\n",
       "</style>\n",
       "<table border=\"1\" class=\"dataframe\">\n",
       "  <thead>\n",
       "    <tr style=\"text-align: right;\">\n",
       "      <th></th>\n",
       "      <th>keywords</th>\n",
       "      <th>fos</th>\n",
       "      <th>text</th>\n",
       "    </tr>\n",
       "  </thead>\n",
       "  <tbody>\n",
       "    <tr>\n",
       "      <th>0</th>\n",
       "      <td>handwriting recognition prototypes image segme...</td>\n",
       "      <td>Intelligent character recognition Pattern reco...</td>\n",
       "      <td>A solution to the problem of touching and brok...</td>\n",
       "    </tr>\n",
       "    <tr>\n",
       "      <th>1</th>\n",
       "      <td>sequential circuits statistical distributions ...</td>\n",
       "      <td>Delay calculation Timing failure Monte Carlo m...</td>\n",
       "      <td>Timing yield estimation using statistical stat...</td>\n",
       "    </tr>\n",
       "    <tr>\n",
       "      <th>2</th>\n",
       "      <td>Internet hypermedia markup languages informati...</td>\n",
       "      <td>XML Base World Wide Web XML framework XML Encr...</td>\n",
       "      <td>Using XML to Integrate Existing Software Syste...</td>\n",
       "    </tr>\n",
       "    <tr>\n",
       "      <th>3</th>\n",
       "      <td>cognition multi-agent systems ubiquitous compu...</td>\n",
       "      <td>Syma Computer science Symbiotic computing Mult...</td>\n",
       "      <td>The design of awareness and operation module f...</td>\n",
       "    </tr>\n",
       "    <tr>\n",
       "      <th>4</th>\n",
       "      <td>balanced scorecard</td>\n",
       "      <td>Lease Computer science Balanced scorecard Busi...</td>\n",
       "      <td>A Model for Evaluating the Effectiveness of th...</td>\n",
       "    </tr>\n",
       "    <tr>\n",
       "      <th>...</th>\n",
       "      <td>...</td>\n",
       "      <td>...</td>\n",
       "      <td>...</td>\n",
       "    </tr>\n",
       "    <tr>\n",
       "      <th>1534801</th>\n",
       "      <td>data mining probability density function montg...</td>\n",
       "      <td>Integer Cryptography Modular arithmetic Parall...</td>\n",
       "      <td>Modular Reduction without Precomputational Pha...</td>\n",
       "    </tr>\n",
       "    <tr>\n",
       "      <th>1534802</th>\n",
       "      <td>particle filters video tracking data fusion in...</td>\n",
       "      <td>Computer vision Space technology Identifier In...</td>\n",
       "      <td>Video-radio fusion approach for target trackin...</td>\n",
       "    </tr>\n",
       "    <tr>\n",
       "      <th>1534803</th>\n",
       "      <td>visualization load balancing parallel processi...</td>\n",
       "      <td>Computer architecture Visualization Load balan...</td>\n",
       "      <td>Survey of parallel approaches to scientific vi...</td>\n",
       "    </tr>\n",
       "    <tr>\n",
       "      <th>1534804</th>\n",
       "      <td>parallel distributed compensation scheme lyapu...</td>\n",
       "      <td>Lyapunov function Stability criterion Mathemat...</td>\n",
       "      <td>Stability Analysis of Time-Delay Fuzzy Systems...</td>\n",
       "    </tr>\n",
       "    <tr>\n",
       "      <th>1534805</th>\n",
       "      <td>feature-term logic fast unification general ca...</td>\n",
       "      <td>Horn clause Exponential function Algebra Negat...</td>\n",
       "      <td>Horn extended feature structures: fast unifica...</td>\n",
       "    </tr>\n",
       "  </tbody>\n",
       "</table>\n",
       "<p>1534806 rows × 3 columns</p>\n",
       "</div>"
      ],
      "text/plain": [
       "                                                  keywords  \\\n",
       "0        handwriting recognition prototypes image segme...   \n",
       "1        sequential circuits statistical distributions ...   \n",
       "2        Internet hypermedia markup languages informati...   \n",
       "3        cognition multi-agent systems ubiquitous compu...   \n",
       "4                                       balanced scorecard   \n",
       "...                                                    ...   \n",
       "1534801  data mining probability density function montg...   \n",
       "1534802  particle filters video tracking data fusion in...   \n",
       "1534803  visualization load balancing parallel processi...   \n",
       "1534804  parallel distributed compensation scheme lyapu...   \n",
       "1534805  feature-term logic fast unification general ca...   \n",
       "\n",
       "                                                       fos  \\\n",
       "0        Intelligent character recognition Pattern reco...   \n",
       "1        Delay calculation Timing failure Monte Carlo m...   \n",
       "2        XML Base World Wide Web XML framework XML Encr...   \n",
       "3        Syma Computer science Symbiotic computing Mult...   \n",
       "4        Lease Computer science Balanced scorecard Busi...   \n",
       "...                                                    ...   \n",
       "1534801  Integer Cryptography Modular arithmetic Parall...   \n",
       "1534802  Computer vision Space technology Identifier In...   \n",
       "1534803  Computer architecture Visualization Load balan...   \n",
       "1534804  Lyapunov function Stability criterion Mathemat...   \n",
       "1534805  Horn clause Exponential function Algebra Negat...   \n",
       "\n",
       "                                                      text  \n",
       "0        A solution to the problem of touching and brok...  \n",
       "1        Timing yield estimation using statistical stat...  \n",
       "2        Using XML to Integrate Existing Software Syste...  \n",
       "3        The design of awareness and operation module f...  \n",
       "4        A Model for Evaluating the Effectiveness of th...  \n",
       "...                                                    ...  \n",
       "1534801  Modular Reduction without Precomputational Pha...  \n",
       "1534802  Video-radio fusion approach for target trackin...  \n",
       "1534803  Survey of parallel approaches to scientific vi...  \n",
       "1534804  Stability Analysis of Time-Delay Fuzzy Systems...  \n",
       "1534805  Horn extended feature structures: fast unifica...  \n",
       "\n",
       "[1534806 rows x 3 columns]"
      ]
     },
     "execution_count": 4,
     "metadata": {},
     "output_type": "execute_result"
    }
   ],
   "source": [
    "articles"
   ]
  },
  {
   "cell_type": "markdown",
   "id": "49dbfdfd-1b29-45ad-b3c4-36797f08cd98",
   "metadata": {},
   "source": [
    "### Applying [Porter stemming](https://www.nltk.org/api/nltk.stem.porter.html) to normalize text data"
   ]
  },
  {
   "cell_type": "code",
   "execution_count": 5,
   "id": "a447204c-cb49-40d1-9ea5-dda51b34b670",
   "metadata": {},
   "outputs": [],
   "source": [
    "from nltk.stem.porter import PorterStemmer\n",
    "porter = PorterStemmer()"
   ]
  },
  {
   "cell_type": "code",
   "execution_count": 6,
   "id": "46965318-28f7-4c21-8e3b-75d0eddfa736",
   "metadata": {},
   "outputs": [
    {
     "data": {
      "application/vnd.jupyter.widget-view+json": {
       "model_id": "2c8d585d31c144ed8f953ca9fd00b94d",
       "version_major": 2,
       "version_minor": 0
      },
      "text/plain": [
       "VBox(children=(HBox(children=(IntProgress(value=0, description='0.00%', max=575553), Label(value='0 / 575553')…"
      ]
     },
     "metadata": {},
     "output_type": "display_data"
    },
    {
     "name": "stdout",
     "output_type": "stream",
     "text": [
      "CPU times: total: 22.3 s\n",
      "Wall time: 1min 39s\n"
     ]
    }
   ],
   "source": [
    "%%time\n",
    "articles = articles.parallel_applymap(porter.stem)"
   ]
  },
  {
   "cell_type": "code",
   "execution_count": 7,
   "id": "24b63a51-4f9c-49d8-bed9-cee8b65a1147",
   "metadata": {},
   "outputs": [
    {
     "data": {
      "text/html": [
       "<div>\n",
       "<style scoped>\n",
       "    .dataframe tbody tr th:only-of-type {\n",
       "        vertical-align: middle;\n",
       "    }\n",
       "\n",
       "    .dataframe tbody tr th {\n",
       "        vertical-align: top;\n",
       "    }\n",
       "\n",
       "    .dataframe thead th {\n",
       "        text-align: right;\n",
       "    }\n",
       "</style>\n",
       "<table border=\"1\" class=\"dataframe\">\n",
       "  <thead>\n",
       "    <tr style=\"text-align: right;\">\n",
       "      <th></th>\n",
       "      <th>keywords</th>\n",
       "      <th>fos</th>\n",
       "      <th>text</th>\n",
       "    </tr>\n",
       "  </thead>\n",
       "  <tbody>\n",
       "    <tr>\n",
       "      <th>0</th>\n",
       "      <td>handwriting recognition prototypes image segme...</td>\n",
       "      <td>intelligent character recognition pattern reco...</td>\n",
       "      <td>a solution to the problem of touching and brok...</td>\n",
       "    </tr>\n",
       "    <tr>\n",
       "      <th>1</th>\n",
       "      <td>sequential circuits statistical distributions ...</td>\n",
       "      <td>delay calculation timing failure monte carlo m...</td>\n",
       "      <td>timing yield estimation using statistical stat...</td>\n",
       "    </tr>\n",
       "    <tr>\n",
       "      <th>2</th>\n",
       "      <td>internet hypermedia markup languages informati...</td>\n",
       "      <td>xml base world wide web xml framework xml encr...</td>\n",
       "      <td>using xml to integrate existing software syste...</td>\n",
       "    </tr>\n",
       "    <tr>\n",
       "      <th>3</th>\n",
       "      <td>cognition multi-agent systems ubiquitous compu...</td>\n",
       "      <td>syma computer science symbiotic computing mult...</td>\n",
       "      <td>the design of awareness and operation module f...</td>\n",
       "    </tr>\n",
       "    <tr>\n",
       "      <th>4</th>\n",
       "      <td>balanced scorecard</td>\n",
       "      <td>lease computer science balanced scorecard busi...</td>\n",
       "      <td>a model for evaluating the effectiveness of th...</td>\n",
       "    </tr>\n",
       "    <tr>\n",
       "      <th>...</th>\n",
       "      <td>...</td>\n",
       "      <td>...</td>\n",
       "      <td>...</td>\n",
       "    </tr>\n",
       "    <tr>\n",
       "      <th>1534801</th>\n",
       "      <td>data mining probability density function montg...</td>\n",
       "      <td>integer cryptography modular arithmetic parall...</td>\n",
       "      <td>modular reduction without precomputational pha...</td>\n",
       "    </tr>\n",
       "    <tr>\n",
       "      <th>1534802</th>\n",
       "      <td>particle filters video tracking data fusion in...</td>\n",
       "      <td>computer vision space technology identifier in...</td>\n",
       "      <td>video-radio fusion approach for target trackin...</td>\n",
       "    </tr>\n",
       "    <tr>\n",
       "      <th>1534803</th>\n",
       "      <td>visualization load balancing parallel processi...</td>\n",
       "      <td>computer architecture visualization load balan...</td>\n",
       "      <td>survey of parallel approaches to scientific vi...</td>\n",
       "    </tr>\n",
       "    <tr>\n",
       "      <th>1534804</th>\n",
       "      <td>parallel distributed compensation scheme lyapu...</td>\n",
       "      <td>lyapunov function stability criterion mathemat...</td>\n",
       "      <td>stability analysis of time-delay fuzzy systems...</td>\n",
       "    </tr>\n",
       "    <tr>\n",
       "      <th>1534805</th>\n",
       "      <td>feature-term logic fast unification general ca...</td>\n",
       "      <td>horn clause exponential function algebra negat...</td>\n",
       "      <td>horn extended feature structures: fast unifica...</td>\n",
       "    </tr>\n",
       "  </tbody>\n",
       "</table>\n",
       "<p>1534806 rows × 3 columns</p>\n",
       "</div>"
      ],
      "text/plain": [
       "                                                  keywords  \\\n",
       "0        handwriting recognition prototypes image segme...   \n",
       "1        sequential circuits statistical distributions ...   \n",
       "2        internet hypermedia markup languages informati...   \n",
       "3        cognition multi-agent systems ubiquitous compu...   \n",
       "4                                       balanced scorecard   \n",
       "...                                                    ...   \n",
       "1534801  data mining probability density function montg...   \n",
       "1534802  particle filters video tracking data fusion in...   \n",
       "1534803  visualization load balancing parallel processi...   \n",
       "1534804  parallel distributed compensation scheme lyapu...   \n",
       "1534805  feature-term logic fast unification general ca...   \n",
       "\n",
       "                                                       fos  \\\n",
       "0        intelligent character recognition pattern reco...   \n",
       "1        delay calculation timing failure monte carlo m...   \n",
       "2        xml base world wide web xml framework xml encr...   \n",
       "3        syma computer science symbiotic computing mult...   \n",
       "4        lease computer science balanced scorecard busi...   \n",
       "...                                                    ...   \n",
       "1534801  integer cryptography modular arithmetic parall...   \n",
       "1534802  computer vision space technology identifier in...   \n",
       "1534803  computer architecture visualization load balan...   \n",
       "1534804  lyapunov function stability criterion mathemat...   \n",
       "1534805  horn clause exponential function algebra negat...   \n",
       "\n",
       "                                                      text  \n",
       "0        a solution to the problem of touching and brok...  \n",
       "1        timing yield estimation using statistical stat...  \n",
       "2        using xml to integrate existing software syste...  \n",
       "3        the design of awareness and operation module f...  \n",
       "4        a model for evaluating the effectiveness of th...  \n",
       "...                                                    ...  \n",
       "1534801  modular reduction without precomputational pha...  \n",
       "1534802  video-radio fusion approach for target trackin...  \n",
       "1534803  survey of parallel approaches to scientific vi...  \n",
       "1534804  stability analysis of time-delay fuzzy systems...  \n",
       "1534805  horn extended feature structures: fast unifica...  \n",
       "\n",
       "[1534806 rows x 3 columns]"
      ]
     },
     "execution_count": 7,
     "metadata": {},
     "output_type": "execute_result"
    }
   ],
   "source": [
    "articles"
   ]
  },
  {
   "cell_type": "code",
   "execution_count": 85,
   "id": "e7ebb624-a110-4bbe-b15f-56074375c088",
   "metadata": {},
   "outputs": [],
   "source": [
    "vectorizer = TfidfVectorizer(max_df=0.5, min_df=10, stop_words='english')\n",
    "svd = TruncatedSVD(n_components=REDUCED_DIMENSION, random_state=RANDOM_STATE)\n",
    "kmeans = KMeans(n_clusters=NUM_CLUSTERS, random_state=RANDOM_STATE)\n",
    "\n",
    "pipe = Pipeline([\n",
    "    ('tfidf', vectorizer),\n",
    "    ('svd', svd),\n",
    "    ('kmeans', kmeans)\n",
    "])"
   ]
  },
  {
   "cell_type": "code",
   "execution_count": 86,
   "id": "9c0afa0b-a4eb-4863-8aeb-c43d556af15b",
   "metadata": {
    "tags": []
   },
   "outputs": [],
   "source": [
    "pipe.fit(articles.text)\n",
    "\n",
    "cluster_ids, cluster_sizes = np.unique(kmeans.labels_, return_counts=True)"
   ]
  },
  {
   "cell_type": "code",
   "execution_count": 87,
   "id": "37ff90fd-2a11-4794-b4b5-9759746aaaaf",
   "metadata": {},
   "outputs": [
    {
     "name": "stdout",
     "output_type": "stream",
     "text": [
      "(1534806, 60)\n"
     ]
    }
   ],
   "source": [
    "articles_compressed = pipe[:-1].transform(articles.text)\n",
    "print(articles_compressed.shape)"
   ]
  },
  {
   "cell_type": "code",
   "execution_count": 89,
   "id": "ac93187c-22d6-4a8e-a4b0-f4ab1ef9c466",
   "metadata": {},
   "outputs": [
    {
     "name": "stdout",
     "output_type": "stream",
     "text": [
      "Score: 0.11844327048389382\n"
     ]
    }
   ],
   "source": [
    "print('Score:', get_score(articles_compressed, kmeans.labels_))  #n_com=100 0.06735451976061607"
   ]
  },
  {
   "cell_type": "markdown",
   "id": "3528b364-a643-4447-bdea-9f2b5d3aad03",
   "metadata": {},
   "source": [
    "### Cluster names based on tfidf score of cluster centers"
   ]
  },
  {
   "cell_type": "code",
   "execution_count": 90,
   "id": "38e9c2bd-f59e-4857-9ca9-f55f8dc34b97",
   "metadata": {},
   "outputs": [
    {
     "name": "stdout",
     "output_type": "stream",
     "text": [
      "Cluster 0: game games video human search\n",
      "Cluster 1: parallel computing algorithm distributed programming\n",
      "Cluster 2: logic programming temporal gate circuit\n",
      "Cluster 3: decision tree support trees making\n",
      "Cluster 4: graph graphs mathematics discrete combinatorics\n",
      "Cluster 5: web semantic service world wide\n",
      "Cluster 6: database xml query data relational\n",
      "Cluster 7: user interface interaction human virtual\n",
      "Cluster 8: routing protocol network hoc ad\n",
      "Cluster 9: data mining database information analysis\n",
      "Cluster 10: filter noise signal processing frequency\n",
      "Cluster 11: service services web quality architecture\n",
      "Cluster 12: segmentation image object vision recognition\n",
      "Cluster 13: learning machine artificial intelligence supervised\n",
      "Cluster 14: robot robots mobile control planning\n",
      "Cluster 15: fuzzy logic set control neuro\n",
      "Cluster 16: security authentication key privacy information\n",
      "Cluster 17: language programming natural object formal\n",
      "Cluster 18: neural network artificial networks learning\n",
      "Cluster 19: query search retrieval information database\n",
      "Cluster 20: hoc ad network wireless mobile\n",
      "Cluster 21: video coding compression quality multimedia\n",
      "Cluster 22: power energy consumption circuit voltage\n",
      "Cluster 23: wavelet transform compression image coding\n",
      "Cluster 24: motion estimation planning image video\n",
      "Cluster 25: memory cache parallel shared access\n",
      "Cluster 26: control systems theory nonlinear adaptive\n",
      "Cluster 27: knowledge management base domain reasoning\n",
      "Cluster 28: semantic ontology web information retrieval\n",
      "Cluster 29: sensor wireless network networks energy\n",
      "Cluster 30: network wireless networks traffic packet\n",
      "Cluster 31: feature recognition classification extraction vector\n",
      "Cluster 32: design architecture circuit engineering systems\n",
      "Cluster 33: grid computing cloud distributed resource\n",
      "Cluster 34: model algorithm mathematics time data\n",
      "Cluster 35: channel frequency mimo interference fading\n",
      "Cluster 36: business process management model modeling\n",
      "Cluster 37: image retrieval vision images processing\n",
      "Cluster 38: fault test testing tolerance detection\n",
      "Cluster 39: agent multi agents systems intelligent\n",
      "Cluster 40: information management retrieval business knowledge\n",
      "Cluster 41: clustering cluster data algorithm analysis\n",
      "Cluster 42: image detection object vision recognition\n",
      "Cluster 43: software engineering development process architecture\n",
      "Cluster 44: code error codes coding decoding\n",
      "Cluster 45: social network media information privacy\n",
      "Cluster 46: optimization algorithm genetic evolutionary problem\n",
      "Cluster 47: scheduling computing time priority job\n",
      "Cluster 48: speech recognition language processing associ\n",
      "Cluster 49: mobile computing device network user\n"
     ]
    }
   ],
   "source": [
    "original_space_centroids = svd.inverse_transform(kmeans.cluster_centers_)\n",
    "order_centroids = original_space_centroids.argsort()[:, ::-1]\n",
    "terms = vectorizer.get_feature_names_out()\n",
    "cluster_names = terms[order_centroids[:, 0]]\n",
    "\n",
    "topK = 5\n",
    "for i in range(NUM_CLUSTERS):\n",
    "    print(f'Cluster {i}: ', end='')\n",
    "    print(' '.join(terms[order_centroids[i, :topK]]))"
   ]
  },
  {
   "cell_type": "code",
   "execution_count": 91,
   "id": "23f08af9-f09a-416b-8d50-0e3057a61c71",
   "metadata": {},
   "outputs": [
    {
     "data": {
      "image/png": "[encoded data removed]",
      "text/plain": [
       "<Figure size 1296x504 with 1 Axes>"
      ]
     },
     "metadata": {
      "needs_background": "light"
     },
     "output_type": "display_data"
    }
   ],
   "source": [
    "plot_clusters(cluster_ids, cluster_sizes, cluster_names)"
   ]
  },
  {
   "cell_type": "markdown",
   "id": "e80b22e4-cf2d-4c77-a16e-79ac84ca9775",
   "metadata": {},
   "source": [
    "### Cluster names based on top words from `keyrowds` + `fos`"
   ]
  },
  {
   "cell_type": "code",
   "execution_count": 92,
   "id": "42c45316-d3e3-4bbc-9fc0-2dd900484a16",
   "metadata": {},
   "outputs": [
    {
     "name": "stdout",
     "output_type": "stream",
     "text": [
      "Cluster 0: game computer design science theory\n",
      "Cluster 1: parallel computer computing science algorithm\n",
      "Cluster 2: logic computer science programming temporal\n",
      "Cluster 3: decision tree system computer science\n",
      "Cluster 4: graph mathematics combinatorics computer discrete\n",
      "Cluster 5: web computer science world wide\n",
      "Cluster 6: database xml data computer science\n",
      "Cluster 7: user computer interface interaction science\n",
      "Cluster 8: routing protocol network computer wireless\n",
      "Cluster 9: data computer science mining system\n",
      "Cluster 10: filter noise signal algorithm computer\n",
      "Cluster 11: service web computer science architecture\n",
      "Cluster 12: segmentation image computer artificial intelligence\n",
      "Cluster 13: learning computer science artificial machine\n",
      "Cluster 14: robot control mobile computer robots\n",
      "Cluster 15: fuzzy set control system logic\n",
      "Cluster 16: security computer science information authentication\n",
      "Cluster 17: language programming computer science natural\n",
      "Cluster 18: neural network artificial computer science\n",
      "Cluster 19: query search information retrieval computer\n",
      "Cluster 20: network ad hoc wireless mobile\n",
      "Cluster 21: video computer coding science image\n",
      "Cluster 22: power energy engineering system voltage\n",
      "Cluster 23: wavelet transform image discrete computer\n",
      "Cluster 24: motion computer estimation image vision\n",
      "Cluster 25: memory cache computer system science\n",
      "Cluster 26: control system theory systems engineering\n",
      "Cluster 27: knowledge management science computer system\n",
      "Cluster 28: semantic ontology web information science\n",
      "Cluster 29: sensor network wireless computer networks\n",
      "Cluster 30: network computer science wireless traffic\n",
      "Cluster 31: recognition feature computer artificial pattern\n",
      "Cluster 32: design computer system circuit engineering\n",
      "Cluster 33: computing grid computer resource cloud\n",
      "Cluster 34: computer science system algorithm model\n",
      "Cluster 35: channel computer communication interference fading\n",
      "Cluster 36: business process management model modeling\n",
      "Cluster 37: image computer artificial intelligence vision\n",
      "Cluster 38: fault test testing system computer\n",
      "Cluster 39: agent system computer science multi-agent\n",
      "Cluster 40: information management system computer science\n",
      "Cluster 41: clustering data algorithm cluster analysis\n",
      "Cluster 42: computer image vision artificial intelligence\n",
      "Cluster 43: software engineering development computer system\n",
      "Cluster 44: code error codes computer decoding\n",
      "Cluster 45: social network computer science information\n",
      "Cluster 46: algorithm optimization genetic problem evolutionary\n",
      "Cluster 47: scheduling computer algorithm science (computing)\n",
      "Cluster 48: speech recognition computer science model\n",
      "Cluster 49: mobile computer computing network science\n"
     ]
    }
   ],
   "source": [
    "cluster_names_counter = []\n",
    "\n",
    "for cluster_id in range(NUM_CLUSTERS):\n",
    "    cluster = articles.loc[np.argwhere(kmeans.labels_ == cluster_id).flatten()]\n",
    "    c = Counter(' '.join((cluster.keywords + ' ' + cluster.fos).values).split())\n",
    "    print(f'Cluster {cluster_id}: ', end='')\n",
    "    top_words = c.most_common(topK)\n",
    "    print(' '.join(pair[0] for pair in top_words))\n",
    "    cluster_names_counter.append(top_words[0][0])"
   ]
  },
  {
   "cell_type": "code",
   "execution_count": 93,
   "id": "d5676172-2a00-489c-90fe-89810972cea2",
   "metadata": {},
   "outputs": [
    {
     "data": {
      "image/png": "[encoded data removed]",
      "text/plain": [
       "<Figure size 1296x504 with 1 Axes>"
      ]
     },
     "metadata": {
      "needs_background": "light"
     },
     "output_type": "display_data"
    }
   ],
   "source": [
    "plot_clusters(cluster_ids, cluster_sizes, cluster_names_counter)"
   ]
  }
 ],
 "metadata": {
  "kernelspec": {
   "display_name": "Python 3 (ipykernel)",
   "language": "python",
   "name": "python3"
  },
  "language_info": {
   "codemirror_mode": {
    "name": "ipython",
    "version": 3
   },
   "file_extension": ".py",
   "mimetype": "text/x-python",
   "name": "python",
   "nbconvert_exporter": "python",
   "pygments_lexer": "ipython3",
   "version": "3.9.10"
  }
 },
 "nbformat": 4,
 "nbformat_minor": 5
}
